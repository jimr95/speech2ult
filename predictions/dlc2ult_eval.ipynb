{
 "cells": [
  {
   "cell_type": "code",
   "execution_count": 153,
   "metadata": {
    "collapsed": true,
    "pycharm": {
     "name": "#%%\n"
    }
   },
   "outputs": [],
   "source": [
    "import argparse\n",
    "import pickle\n",
    "import os\n",
    "import numpy as np\n",
    "import tensorflow as tf\n",
    "import glob\n",
    "import matplotlib.pyplot as plt\n",
    "import pandas as pd\n",
    "import subprocess\n",
    "import matplotlib as mpl\n",
    "from sklearn.metrics import mean_squared_error as mse\n",
    "from scipy import signal\n",
    "from keras.models import model_from_json\n",
    "from speech2ult.tools.transform_ultrasound import transform_ultrasound"
   ]
  },
  {
   "cell_type": "code",
   "execution_count": 154,
   "metadata": {
    "pycharm": {
     "name": "#%%\n"
    }
   },
   "outputs": [],
   "source": [
    "def load_model(path, ssim=False):\n",
    "    \"\"\"load in models from the specified path\"\"\"\n",
    "    model_weights = path[:-10] + 'weights.h5'\n",
    "    with open(path, \"r\") as json_file:\n",
    "        loaded_model_json = json_file.read()\n",
    "    model = model_from_json(loaded_model_json)\n",
    "    # load weights into model\n",
    "    model.load_weights(model_weights)\n",
    "    if ssim:\n",
    "        model.compile(loss='mean_squared_error', optimizer='adam', metrics=SSIMLoss)\n",
    "    else:\n",
    "        model.compile(loss='mean_squared_error', optimizer='adam')\n",
    "\n",
    "    return model\n",
    "\n",
    "def SSIMLoss(y_true, y_pred):\n",
    "    \"\"\"https://stackoverflow.com/questions/57357146/use-ssim-loss-function-with-keras\"\"\"\n",
    "    y_true = tf.reshape(y_true, (-1, 64, 128, 1))\n",
    "    y_pred = tf.reshape(y_pred, (-1, 64, 128, 1))\n",
    "\n",
    "    return 1 - tf.reduce_mean(tf.image.ssim(y_true, y_pred, 1.0))\n",
    "\n",
    "class TestFile:\n",
    "    def __init__(self, basename, ult, wav, sr, dlc_ult):\n",
    "        self.basename = basename\n",
    "        self.ult = ult\n",
    "        self.wav = wav\n",
    "        self.sr = sr\n",
    "        self.dlc = dlc_ult\n",
    "        self.aud_scalar = None\n",
    "        self.ult_scalar = None\n",
    "        self.dlc_scalar = None\n",
    "        self.aud_feat = None\n",
    "        self.window = None\n",
    "        self.lstm = None\n",
    "        self.get_butter()\n",
    "        self.get_med()\n",
    "        self.get_bothfilt()\n",
    "\n",
    "    def get_butter(self):\n",
    "        \"\"\"apply butterworth filter to each column (body part)\"\"\"\n",
    "        filtered = np.empty_like(self.dlc)\n",
    "        fc = 10  # Cut-off frequency of the filter\n",
    "        w = fc / (60 / 2)  # Normalize the frequency\n",
    "        b, a = signal.butter(5, w, 'low')\n",
    "\n",
    "        for col in range(self.dlc.shape[1]):\n",
    "            filtered[:, col] = signal.filtfilt(b, a, self.dlc[:, col])\n",
    "\n",
    "        self.butter = filtered\n",
    "\n",
    "    def get_med(self):\n",
    "        \"\"\"apply median filter to each column (body part)\"\"\"\n",
    "        filtered = np.empty_like(self.dlc)\n",
    "        for col in range(self.dlc.shape[1]):\n",
    "            filtered[:, col] = signal.medfilt(self.dlc[:, col], 7)\n",
    "\n",
    "        self.medfilt = filtered\n",
    "\n",
    "    def get_bothfilt(self):\n",
    "        \"\"\"apply median filter to each column (body part)\"\"\"\n",
    "        filtered = np.empty_like(self.dlc)\n",
    "        for col in range(self.dlc.shape[1]):\n",
    "            filtered[:, col] = signal.medfilt(self.butter[:, col], 7)\n",
    "\n",
    "        self.bothfilt = filtered\n",
    "\n",
    "def transfrom(ult, colour=0):\n",
    "    ult_t = transform_ultrasound(ult, background_colour=colour, num_scanlines=64,\n",
    "                             size_scanline=128, angle=0.025,\n",
    "                             zero_offset=30, pixels_per_mm=0.5)\n",
    "\n",
    "    # get rid of border\n",
    "    ult_t = ult_t[:, 50:-50, 10:-10]\n",
    "    return ult_t\n",
    "\n",
    "def make_vid(img_dir, name, type='avi', out_dir=None):\n",
    "    if not out_dir:\n",
    "        out_dir = img_dir\n",
    "    subprocess.call(\n",
    "        [\"ffmpeg\", \"-y\", \"-r\", \"60\",\n",
    "         \"-i\", img_dir + \"/%07d.jpg\", \"-vcodec\", \"mpeg4\", \"-qscale\", \"5\", \"-r\",\n",
    "         \"60\", out_dir + f\"/{name}.{type}\"])"
   ]
  },
  {
   "cell_type": "code",
   "execution_count": null,
   "metadata": {
    "pycharm": {
     "name": "#%%\n"
    }
   },
   "outputs": [],
   "source": []
  },
  {
   "cell_type": "code",
   "execution_count": 224,
   "metadata": {
    "pycharm": {
     "name": "#%%\n"
    }
   },
   "outputs": [],
   "source": [
    "dlc_tests = 'speech2ult/predictions/models/dlc_tests'\n",
    "# choose which dlc test build to use and which trained model to load in\n",
    "test_name = 'ffn_dlc_med'\n",
    "model = 'model'"
   ]
  },
  {
   "cell_type": "code",
   "execution_count": 225,
   "metadata": {
    "pycharm": {
     "name": "#%%\n"
    }
   },
   "outputs": [],
   "source": [
    "col_names = ['vallecula_x', 'vallecula_y', 'tongueRoot1_x', 'tongueRoot1_y',\n",
    "       'tongueRoot2_x', 'tongueRoot2_y', 'tongueBody1_x', 'tongueBody1_y',\n",
    "       'tongueBody2_x', 'tongueBody2_y', 'tongueDorsum1_x', 'tongueDorsum1_y',\n",
    "       'tongueDorsum2_x', 'tongueDorsum2_y', 'tongueBlade1_x',\n",
    "       'tongueBlade1_y', 'tongueBlade2_x', 'tongueBlade2_y', 'tongueTip1_x',\n",
    "       'tongueTip1_y', 'tongueTip2_x', 'tongueTip2_y']"
   ]
  },
  {
   "cell_type": "code",
   "execution_count": 226,
   "metadata": {
    "pycharm": {
     "name": "#%%\n"
    }
   },
   "outputs": [],
   "source": [
    "aai_path = glob.glob(os.path.join(dlc_tests, test_name, model, '*.json'))[0]\n",
    "dlc2ult_path = glob.glob(os.path.join(dlc_tests[:-10], 'dlc2ult', f'model_{names[test_name]}*', '*.json'))[0] # to get model2 use index 1\n",
    "aud_path = glob.glob(os.path.join(dlc_tests, test_name, 'data', 'AUD*.pickle'))[0]\n",
    "dlc_path = glob.glob(os.path.join(dlc_tests, test_name, 'data', 'ULT*.pickle'))[0]\n",
    "ult_path = 'speech2ult/predictions/models/dlc2ult/ult_test_lips.pickle'\n",
    "dlc_test_clean = 'speech2ult/predictions/models/dlc2ult/fixed_test_scaled.pickle'\n",
    "ppmm = 3.1625"
   ]
  },
  {
   "cell_type": "code",
   "execution_count": 227,
   "metadata": {
    "pycharm": {
     "name": "#%%\n"
    }
   },
   "outputs": [],
   "source": [
    "# load in the models\n",
    "aai_model = load_model(aai_path)\n",
    "dlc2ult = load_model(dlc2ult_path, ssim=True)\n",
    "\n",
    "# load in the data dicts\n",
    "with open(aud_path, 'rb') as file:\n",
    "    aud_dict, aud_params = pickle.load(file)\n",
    "\n",
    "with open(dlc_path, 'rb') as file:\n",
    "    dlc_dict, dlc_params = pickle.load(file)\n",
    "\n",
    "with open(dlc_test_clean, 'rb') as file:\n",
    "    clean_dlc, dlc_scaler = pickle.load(file)\n",
    "\n",
    "with open(ult_path, 'rb') as file:\n",
    "    ult_test, ult_params = pickle.load(file)\n"
   ]
  },
  {
   "cell_type": "code",
   "execution_count": 228,
   "metadata": {
    "pycharm": {
     "name": "#%%\n"
    }
   },
   "outputs": [],
   "source": [
    "# predict entire test set with aai-dlc model\n",
    "dlc_pred = aai_model.predict(aud_dict['test'], verbose=0)\n",
    "# rescale\n",
    "pred_scal = dlc_params['scalar'].inverse_transform(dlc_pred)\n",
    "true_scal = dlc_params['scalar'].inverse_transform(dlc_dict['test'])"
   ]
  },
  {
   "cell_type": "code",
   "execution_count": 229,
   "metadata": {
    "pycharm": {
     "name": "#%%\n"
    }
   },
   "outputs": [],
   "source": [
    "# for no filter\n",
    "true_scal = clean_dlc"
   ]
  },
  {
   "cell_type": "code",
   "execution_count": 230,
   "metadata": {
    "pycharm": {
     "name": "#%%\n"
    }
   },
   "outputs": [
    {
     "name": "stdout",
     "output_type": "stream",
     "text": [
      "rmse in mm is: 5.188536232561892 - assuming ppmm: 3.1625\n",
      "rmse in mm for x coordinates: 5.759150430908323\n",
      "rmse in mm for y coordinates: 4.617922034215457\n"
     ]
    }
   ],
   "source": [
    "rmse = mse(true_scal, pred_scal, squared=False)/ppmm\n",
    "print(f\"rmse in mm is: {rmse} - assuming ppmm: {ppmm}\")\n",
    "# try to get x loss and y loss to see if there is a difference\n",
    "pred_scal_xy = pred_scal.reshape((-1, 11, 2)).copy()\n",
    "true_scal_xy = true_scal.reshape((-1, 11, 2)).copy()\n",
    "rmse_x = mse(true_scal_xy[:,:,0], pred_scal_xy[:,:,0], squared=False)/ppmm\n",
    "rmse_y = mse(true_scal_xy[:,:,1], pred_scal_xy[:,:,1], squared=False)/ppmm\n",
    "print(f'rmse in mm for x coordinates: {rmse_x}')\n",
    "print(f'rmse in mm for y coordinates: {rmse_y}')\n",
    "\n",
    "\n",
    "# for i in range(len(col_names)):\n",
    "#     rmse_feat = mse(true_scal[:,i], pred_scal[:,i], squared=False)/ppmm\n",
    "#     print(f'rmse in mm for {col_names[i]}: {rmse_feat}')\n",
    "\n"
   ]
  },
  {
   "cell_type": "code",
   "execution_count": 173,
   "metadata": {
    "pycharm": {
     "name": "#%%\n"
    }
   },
   "outputs": [
    {
     "name": "stdout",
     "output_type": "stream",
     "text": [
      "190.03683471679688 208.64093\n"
     ]
    }
   ],
   "source": [
    "# try to get rid of some outliers?\n",
    "print(true_scal_xy[0,1,0], pred_scal_xy[0,1,0])"
   ]
  },
  {
   "cell_type": "code",
   "execution_count": 146,
   "metadata": {
    "pycharm": {
     "name": "#%%\n"
    }
   },
   "outputs": [
    {
     "data": {
      "image/png": "[encoded data removed]",
      "text/plain": [
       "<Figure size 432x288 with 1 Axes>"
      ]
     },
     "metadata": {
      "needs_background": "light"
     },
     "output_type": "display_data"
    }
   ],
   "source": [
    "colors = np.array([100, 90, 80, 70, 60, 50, 40, 30, 20, 10, 0])\n",
    "feat = 10\n",
    "fig, ax = plt.subplots(layout='constrained')\n",
    "ax.set_xlim([130, 430])\n",
    "ax.set_ylim([-330, -50])\n",
    "ax.scatter(true_scal_xy[:, feat, 0], -true_scal_xy[:, feat, 1], cmap='plasma')\n",
    "ax.scatter(pred_scal_xy[:, feat, 0], -pred_scal_xy[:, feat, 1], cmap='plasma')\n",
    "plt.show()"
   ]
  },
  {
   "cell_type": "code",
   "execution_count": 231,
   "metadata": {
    "pycharm": {
     "name": "#%%\n"
    }
   },
   "outputs": [
    {
     "name": "stdout",
     "output_type": "stream",
     "text": [
      "529/529 - 270s - loss: 0.0196 - SSIMLoss: 0.8271 - 270s/epoch - 511ms/step\n"
     ]
    },
    {
     "data": {
      "text/plain": [
       "[0.019565997645258904, 0.8270866274833679]"
      ]
     },
     "execution_count": 231,
     "metadata": {},
     "output_type": "execute_result"
    }
   ],
   "source": [
    "# with predicted dlc eval dlc2ult\n",
    "dlc2ult.evaluate(dlc_pred, ult_test, verbose=2)"
   ]
  },
  {
   "cell_type": "code",
   "execution_count": null,
   "metadata": {
    "pycharm": {
     "name": "#%%\n"
    }
   },
   "outputs": [],
   "source": [
    "# prediction on test file holder\n",
    "pred_list = []\n",
    "pred_list_names = []"
   ]
  },
  {
   "cell_type": "code",
   "execution_count": 155,
   "metadata": {
    "pycharm": {
     "name": "#%%\n"
    }
   },
   "outputs": [],
   "source": [
    "# testfile\n",
    "testfiles = glob.glob('speech2ult/predictions/test_data/*testfile*')\n",
    "testfile_path = testfiles[1]\n",
    "\n",
    "# load in testfile\n",
    "with open(testfile_path, 'rb') as file:\n",
    "    testfile = pickle.load(file)\n",
    "\n",
    "testfile.transform = transfrom(testfile.ult)\n",
    "testfile.xy = testfile.dlc.reshape((-1, 11, 2))\n",
    "testfile.both_xy = testfile.bothfilt.reshape((-1, 11, 2))\n",
    "testfile.med_xy = testfile.medfilt.reshape((-1, 11, 2))\n",
    "testfile.butter_xy = testfile.butter.reshape((-1, 11, 2))\n",
    "filter = {\n",
    "    'both': testfile.bothfilt,\n",
    "    'butter': testfile.butter,\n",
    "    'median': testfile.medfilt\n",
    "}\n",
    "\n"
   ]
  },
  {
   "cell_type": "code",
   "execution_count": null,
   "metadata": {
    "pycharm": {
     "name": "#%%\n"
    }
   },
   "outputs": [],
   "source": [
    "# save all in a list to make video together?\n",
    "test_dlc_pred = aai_model.predict(testfile.aud_feat, verbose=0)\n",
    "ult_pred = dlc2ult.predict(test_dlc_pred, verbose=0)\n",
    "pred_list.append(ult_pred)\n",
    "pred_list_names.append(f'{test_name}_{model}')"
   ]
  },
  {
   "cell_type": "code",
   "execution_count": null,
   "metadata": {
    "pycharm": {
     "name": "#%%\n"
    }
   },
   "outputs": [],
   "source": [
    "# once i have all the prediction save them"
   ]
  },
  {
   "cell_type": "code",
   "execution_count": 174,
   "metadata": {
    "pycharm": {
     "name": "#%%\n"
    }
   },
   "outputs": [],
   "source": [
    "names = {\n",
    "    'ffn_dlc': 'ffn_dlc',\n",
    "    'ffn_dlc_both': 'ffn_both',\n",
    "    'ffn_dlc_butter': 'ffn_butter',\n",
    "    'ffn_dlc_med': 'ffn_med'\n",
    "}"
   ]
  },
  {
   "cell_type": "code",
   "execution_count": 175,
   "metadata": {
    "pycharm": {
     "name": "#%%\n"
    }
   },
   "outputs": [
    {
     "name": "stdout",
     "output_type": "stream",
     "text": [
      "/Users/jacobrosen/Desktop/Edinburgh/Dissertation/project_code/predictions/models/dlc2ult/model_ffn_both/dlc2ult_lips_test_2022-08-04_model.json\n"
     ]
    }
   ],
   "source": [
    "test_name='ffn_dlc_both'\n",
    "dlc2ult_path = glob.glob(os.path.join(dlc_tests[:-10], 'dlc2ult', f'model_{names[test_name]}*', '*.json'))[0]\n",
    "print(dlc2ult_path)"
   ]
  },
  {
   "cell_type": "code",
   "execution_count": null,
   "metadata": {
    "pycharm": {
     "name": "#%%\n"
    }
   },
   "outputs": [],
   "source": []
  }
 ],
 "metadata": {
  "kernelspec": {
   "display_name": "Python 3",
   "language": "python",
   "name": "python3"
  },
  "language_info": {
   "codemirror_mode": {
    "name": "ipython",
    "version": 3
   },
   "file_extension": ".py",
   "mimetype": "text/x-python",
   "name": "python",
   "nbconvert_exporter": "python",
   "pygments_lexer": "ipython3",
   "version": "3.9.5"
  }
 },
 "nbformat": 4,
 "nbformat_minor": 1
}
