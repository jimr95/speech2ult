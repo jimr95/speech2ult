{
 "cells": [
  {
   "cell_type": "code",
   "execution_count": 1,
   "metadata": {
    "collapsed": true,
    "pycharm": {
     "name": "#%%\n"
    }
   },
   "outputs": [],
   "source": [
    "import os\n",
    "import pandas as pd\n",
    "import pickle\n",
    "import numpy as np\n",
    "import dissertation.tools.utils as utils\n",
    "import librosa\n",
    "import matplotlib.pyplot as plt\n",
    "import matplotlib as mpl\n",
    "import subprocess\n",
    "import glob\n",
    "from keras.models import model_from_json\n",
    "from speech2ult.tools.transform_ultrasound import transform_ultrasound"
   ]
  },
  {
   "cell_type": "code",
   "execution_count": 2,
   "metadata": {
    "pycharm": {
     "name": "#%%\n"
    }
   },
   "outputs": [],
   "source": [
    "def load_model(path):\n",
    "    model_weights = path[:-10] + 'weights.h5'\n",
    "    with open(path, \"r\") as json_file:\n",
    "        loaded_model_json = json_file.read()\n",
    "    model = model_from_json(loaded_model_json)\n",
    "    # load weight into model\n",
    "    model.load_weights(model_weights)\n",
    "    model.compile(loss='mean_squared_error', optimizer='adam')\n",
    "    return model"
   ]
  },
  {
   "cell_type": "code",
   "execution_count": 3,
   "metadata": {
    "pycharm": {
     "name": "#%%\n"
    }
   },
   "outputs": [],
   "source": [
    "class TestFile:\n",
    "    def __init__(self, basename, ult, wav, sr, dlc_ult):\n",
    "        self.basename = basename\n",
    "        self.ult = ult\n",
    "        self.wav = wav\n",
    "        self.sr = sr\n",
    "        self.dlc = dlc_ult\n",
    "        self.aud_scalar = None\n",
    "        self.ult_scalar = None\n",
    "        self.dlc_scalar = None\n",
    "        self.aud_feat = None\n",
    "        self.window = None\n",
    "        self.lstm = None\n",
    "        self.get_butter()\n",
    "        self.get_med()\n",
    "        self.get_bothfilt()\n",
    "\n",
    "    def get_butter(self):\n",
    "        \"\"\"apply butterworth filter to each column (body part)\"\"\"\n",
    "        filtered = np.empty_like(self.dlc)\n",
    "        fc = 10  # Cut-off frequency of the filter\n",
    "        w = fc / (60 / 2)  # Normalize the frequency\n",
    "        b, a = signal.butter(5, w, 'low')\n",
    "\n",
    "        for col in range(self.dlc.shape[1]):\n",
    "            filtered[:, col] = signal.filtfilt(b, a, self.dlc[:, col])\n",
    "\n",
    "        self.butter = filtered\n",
    "\n",
    "    def get_med(self):\n",
    "        \"\"\"apply median filter to each column (body part)\"\"\"\n",
    "        filtered = np.empty_like(self.dlc)\n",
    "        for col in range(self.dlc.shape[1]):\n",
    "            filtered[:, col] = signal.medfilt(self.dlc[:, col], 7)\n",
    "\n",
    "        self.medfilt = filtered\n",
    "\n",
    "    def get_bothfilt(self):\n",
    "        \"\"\"apply median filter to each column (body part)\"\"\"\n",
    "        filtered = np.empty_like(self.dlc)\n",
    "        for col in range(self.dlc.shape[1]):\n",
    "            filtered[:, col] = signal.medfilt(self.butter[:, col], 7)\n",
    "\n",
    "        self.bothfilt = filtered"
   ]
  },
  {
   "cell_type": "code",
   "execution_count": 4,
   "metadata": {
    "pycharm": {
     "name": "#%%\n"
    }
   },
   "outputs": [],
   "source": [
    "def transfrom(ult, colour=0):\n",
    "    ult_t = transform_ultrasound(ult, background_colour=colour, num_scanlines=64,\n",
    "                             size_scanline=128, angle=0.025,\n",
    "                             zero_offset=30, pixels_per_mm=0.5)\n",
    "\n",
    "    # get rid of border\n",
    "    ult_t = ult_t[:, 50:-50, 10:-10]\n",
    "    return ult_t"
   ]
  },
  {
   "cell_type": "code",
   "execution_count": 5,
   "metadata": {
    "pycharm": {
     "name": "#%%\n"
    }
   },
   "outputs": [],
   "source": [
    " def make_vid(img_dir, name, type='avi', out_dir=None):\n",
    "    if not out_dir:\n",
    "        out_dir = img_dir\n",
    "    subprocess.call(\n",
    "        [\"ffmpeg\", \"-y\", \"-r\", \"60\",\n",
    "         \"-i\", img_dir + \"/%07d.jpg\", \"-vcodec\", \"mpeg4\", \"-qscale\", \"5\", \"-r\",\n",
    "         \"60\", out_dir + f\"/{name}.{type}\"])"
   ]
  },
  {
   "cell_type": "code",
   "execution_count": 6,
   "metadata": {
    "pycharm": {
     "name": "#%%\n"
    }
   },
   "outputs": [],
   "source": [
    "testfiles = glob.glob('speech2ult/predictions/test_data/*testfile*')\n",
    "testfile_path = testfiles[1]"
   ]
  },
  {
   "cell_type": "code",
   "execution_count": 7,
   "metadata": {
    "pycharm": {
     "name": "#%%\n"
    }
   },
   "outputs": [],
   "source": [
    "# load in testfile\n",
    "with open(testfile_path, 'rb') as file:\n",
    "    testfile = pickle.load(file)"
   ]
  },
  {
   "cell_type": "code",
   "execution_count": 8,
   "metadata": {
    "pycharm": {
     "name": "#%%\n"
    }
   },
   "outputs": [],
   "source": [
    "testfile.transform = transfrom(testfile.ult)"
   ]
  },
  {
   "cell_type": "code",
   "execution_count": null,
   "metadata": {
    "pycharm": {
     "name": "#%%\n"
    }
   },
   "outputs": [],
   "source": []
  },
  {
   "cell_type": "code",
   "execution_count": 539,
   "metadata": {
    "pycharm": {
     "name": "#%%\n"
    }
   },
   "outputs": [],
   "source": [
    "model_paths = 'speech2ult/predictions/models/new_tests/ffn_w'\n",
    "model_list = glob.glob(model_paths + '/**/*.json')\n",
    "model_names = [f'{os.path.basename(model_paths)}_{os.path.basename(os.path.dirname(i))}' for i in model_list]\n",
    "model_type = 'ffn'\n",
    "pred_list = []"
   ]
  },
  {
   "cell_type": "code",
   "execution_count": 540,
   "metadata": {
    "pycharm": {
     "name": "#%%\n"
    }
   },
   "outputs": [
    {
     "name": "stdout",
     "output_type": "stream",
     "text": [
      "Model: \"sequential\"\n",
      "_________________________________________________________________\n",
      " Layer (type)                Output Shape              Param #   \n",
      "=================================================================\n",
      " dense (Dense)               (None, 1000)              201000    \n",
      "                                                                 \n",
      " dense_1 (Dense)             (None, 1000)              1001000   \n",
      "                                                                 \n",
      " dense_2 (Dense)             (None, 1000)              1001000   \n",
      "                                                                 \n",
      " dense_3 (Dense)             (None, 1000)              1001000   \n",
      "                                                                 \n",
      " dense_4 (Dense)             (None, 1000)              1001000   \n",
      "                                                                 \n",
      " dense_5 (Dense)             (None, 8192)              8200192   \n",
      "                                                                 \n",
      "=================================================================\n",
      "Total params: 12,405,192\n",
      "Trainable params: 12,405,192\n",
      "Non-trainable params: 0\n",
      "_________________________________________________________________\n",
      "Model: \"sequential\"\n",
      "_________________________________________________________________\n",
      " Layer (type)                Output Shape              Param #   \n",
      "=================================================================\n",
      " dense (Dense)               (None, 1000)              201000    \n",
      "                                                                 \n",
      " dense_1 (Dense)             (None, 1000)              1001000   \n",
      "                                                                 \n",
      " dense_2 (Dense)             (None, 1000)              1001000   \n",
      "                                                                 \n",
      " dense_3 (Dense)             (None, 1000)              1001000   \n",
      "                                                                 \n",
      " dense_4 (Dense)             (None, 1000)              1001000   \n",
      "                                                                 \n",
      " dense_5 (Dense)             (None, 8192)              8200192   \n",
      "                                                                 \n",
      "=================================================================\n",
      "Total params: 12,405,192\n",
      "Trainable params: 12,405,192\n",
      "Non-trainable params: 0\n",
      "_________________________________________________________________\n",
      "Model: \"sequential\"\n",
      "_________________________________________________________________\n",
      " Layer (type)                Output Shape              Param #   \n",
      "=================================================================\n",
      " dense (Dense)               (None, 1000)              201000    \n",
      "                                                                 \n",
      " dense_1 (Dense)             (None, 1000)              1001000   \n",
      "                                                                 \n",
      " dense_2 (Dense)             (None, 1000)              1001000   \n",
      "                                                                 \n",
      " dense_3 (Dense)             (None, 1000)              1001000   \n",
      "                                                                 \n",
      " dense_4 (Dense)             (None, 1000)              1001000   \n",
      "                                                                 \n",
      " dense_5 (Dense)             (None, 8192)              8200192   \n",
      "                                                                 \n",
      "=================================================================\n",
      "Total params: 12,405,192\n",
      "Trainable params: 12,405,192\n",
      "Non-trainable params: 0\n",
      "_________________________________________________________________\n"
     ]
    }
   ],
   "source": [
    "for path in model_list:\n",
    "    model = load_model(path)\n",
    "    model.summary()"
   ]
  },
  {
   "cell_type": "code",
   "execution_count": 95,
   "metadata": {
    "pycharm": {
     "name": "#%%\n"
    }
   },
   "outputs": [],
   "source": [
    "# for ultrasounds\n",
    "\n",
    "for path in model_list:\n",
    "    model = load_model(path)\n",
    "\n",
    "    if model_type == 'ffn':\n",
    "        pred_ult = model.predict(testfile.aud_feat, verbose=0)\n",
    "    elif model_type == 'window':\n",
    "        pred_ult = model.predict(testfile.window, verbose=0)\n",
    "    elif model_type == 'lstm':\n",
    "        pred_ult = model.predict(testfile.lstm, verbose=0)\n",
    "\n",
    "    pred_trans = testfile.ult_scalar.inverse_transform(pred_ult)\n",
    "    pred_trans = transfrom(pred_trans.reshape(-1, 64, 128))\n",
    "\n",
    "    pred_list.append(pred_trans)"
   ]
  },
  {
   "cell_type": "code",
   "execution_count": 96,
   "metadata": {
    "pycharm": {
     "name": "#%%\n"
    }
   },
   "outputs": [
    {
     "data": {
      "image/png": "[encoded data removed]",
      "text/plain": [
       "<Figure size 432x288 with 4 Axes>"
      ]
     },
     "metadata": {
      "needs_background": "light"
     },
     "output_type": "display_data"
    }
   ],
   "source": [
    "save_dir = os.path.join(model_paths, 'pred1')\n",
    "if not os.path.exists(save_dir):\n",
    "    os.mkdir(save_dir)\n",
    "\n",
    "max_pred = np.max(pred_list)\n",
    "max_true = np.max(testfile.transform)\n",
    "\n",
    "# if i want a grid\n",
    "grid = [model_names[:2], [model_names[2], 'true']]\n",
    "fig, ax = plt.subplot_mosaic(grid, layout = 'constrained')\n",
    "\n",
    "for f in range(testfile.ult.shape[0]):\n",
    "    for i, name in enumerate(model_names):\n",
    "        ax[name].set_title(name)\n",
    "        ax[name].axis('off')\n",
    "        ax[name].imshow(pred_list[i][f].T, aspect='equal', origin='lower', cmap='gray', vmax=max_pred, vmin=0)\n",
    "\n",
    "    ax['true'].set_title('True Ultrasound')\n",
    "    ax['true'].axis('off')\n",
    "    ax['true'].imshow(testfile.transform[f].T, aspect='equal', origin='lower', cmap='gray', vmin=0, vmax=max_true)\n",
    "\n",
    "    plt.savefig(save_dir + \"/%07d.jpg\" % f, dpi=150)\n",
    "    for i in ax:\n",
    "        ax[i].clear()"
   ]
  },
  {
   "cell_type": "code",
   "execution_count": 97,
   "metadata": {
    "pycharm": {
     "name": "#%%\n"
    }
   },
   "outputs": [
    {
     "name": "stderr",
     "output_type": "stream",
     "text": [
      "ffmpeg version 3.2.4 Copyright (c) 2000-2017 the FFmpeg developers\n",
      "  built with Apple LLVM version 6.1.0 (clang-602.0.53) (based on LLVM 3.6.0svn)\n",
      "  configuration: --prefix=/Users/travis/miniconda3/conda-bld/ffmpeg_1510333912089/_b_env_placehold_placehold_placehold_placehold_placehold_placehold_placehold_placehold_placehold_placehold_placehold_placehold_placehold_placehold_placehold_placehold_placehold_placehold_placehold_pl --disable-doc --enable-shared --enable-static --extra-cflags='-Wall -g -m64 -pipe -O3 -march=x86-64 -fPIC -I/Users/travis/miniconda3/conda-bld/ffmpeg_1510333912089/_b_env_placehold_placehold_placehold_placehold_placehold_placehold_placehold_placehold_placehold_placehold_placehold_placehold_placehold_placehold_placehold_placehold_placehold_placehold_placehold_pl/include' --extra-cxxflags='=-Wall -g -m64 -pipe -O3 -march=x86-64 -fPIC' --extra-libs='-L/Users/travis/miniconda3/conda-bld/ffmpeg_1510333912089/_b_env_placehold_placehold_placehold_placehold_placehold_placehold_placehold_placehold_placehold_placehold_placehold_placehold_placehold_placehold_placehold_placehold_placehold_placehold_placehold_pl/lib -lz' --enable-pic --enable-gpl --enable-version3 --enable-hardcoded-tables --enable-avresample --enable-libx264\n",
      "  libavutil      55. 34.101 / 55. 34.101\n",
      "  libavcodec     57. 64.101 / 57. 64.101\n",
      "  libavformat    57. 56.101 / 57. 56.101\n",
      "  libavdevice    57.  1.100 / 57.  1.100\n",
      "  libavfilter     6. 65.100 /  6. 65.100\n",
      "  libavresample   3.  1.  0 /  3.  1.  0\n",
      "  libswscale      4.  2.100 /  4.  2.100\n",
      "  libswresample   2.  3.100 /  2.  3.100\n",
      "  libpostproc    54.  1.100 / 54.  1.100\n",
      "Input #0, image2, from '/Users/jacobrosen/Desktop/Edinburgh/Dissertation/project_code/predictions/models/new_tests/lstm_10/pred1/%07d.jpg':\n",
      "  Duration: 00:00:04.08, start: 0.000000, bitrate: N/A\n",
      "    Stream #0:0: Video: mjpeg, yuvj420p(pc, bt470bg/unknown/unknown), 900x600 [SAR 150:150 DAR 3:2], 25 fps, 25 tbr, 25 tbn, 25 tbc\n",
      "Please use -q:a or -q:v, -qscale is ambiguous\n",
      "[swscaler @ 0x7fdee3f2d000] deprecated pixel format used, make sure you did set range correctly\n",
      "Output #0, mp4, to '/Users/jacobrosen/Desktop/Edinburgh/Dissertation/project_code/predictions/models/new_tests/lstm_10/pred1/lstm.mp4':\n",
      "  Metadata:\n",
      "    encoder         : Lavf57.56.101\n",
      "    Stream #0:0: Video: mpeg4 ( [0][0][0] / 0x0020), yuv420p, 900x600 [SAR 1:1 DAR 3:2], q=2-31, 200 kb/s, 60 fps, 15360 tbn, 60 tbc\n",
      "    Metadata:\n",
      "      encoder         : Lavc57.64.101 mpeg4\n",
      "    Side data:\n",
      "      cpb: bitrate max/min/avg: 0/0/200000 buffer size: 0 vbv_delay: -1\n",
      "Stream mapping:\n",
      "  Stream #0:0 -> #0:0 (mjpeg (native) -> mpeg4 (native))\n",
      "Press [q] to stop, [?] for help\n",
      "Past duration 0.999992 too large\n",
      "    Last message repeated 100 times\n",
      "frame=  103 fps=0.0 q=5.0 Lsize=     801kB time=00:00:01.70 bitrate=3860.2kbits/s dup=1 drop=0 speed=3.43x    \n",
      "video:800kB audio:0kB subtitle:0kB other streams:0kB global headers:0kB muxing overhead: 0.161292%\n"
     ]
    }
   ],
   "source": [
    "make_vid(save_dir, 'lstm')"
   ]
  },
  {
   "cell_type": "code",
   "execution_count": null,
   "metadata": {
    "pycharm": {
     "name": "#%%\n"
    }
   },
   "outputs": [],
   "source": [
    "# ********DLC STUFF*********"
   ]
  },
  {
   "cell_type": "code",
   "execution_count": 328,
   "metadata": {
    "pycharm": {
     "name": "#%%\n"
    }
   },
   "outputs": [],
   "source": [
    "testfile_path = testfiles[1]\n",
    "# load in testfile\n",
    "with open(testfile_path, 'rb') as file:\n",
    "    testfile = pickle.load(file)"
   ]
  },
  {
   "cell_type": "code",
   "execution_count": 329,
   "metadata": {
    "pycharm": {
     "name": "#%%\n"
    }
   },
   "outputs": [
    {
     "data": {
      "text/plain": [
       "(102, 64, 128)"
      ]
     },
     "execution_count": 329,
     "metadata": {},
     "output_type": "execute_result"
    }
   ],
   "source": [
    "testfile.ult.shape"
   ]
  },
  {
   "cell_type": "code",
   "execution_count": 330,
   "metadata": {
    "pycharm": {
     "name": "#%%\n"
    }
   },
   "outputs": [],
   "source": [
    "# for one dlc\n",
    "model_paths = 'speech2ult/predictions/models/dlc_tests/ffn_dlc'\n",
    "model_list = glob.glob(model_paths + '/**/*.json')\n",
    "model_names = [f'{os.path.basename(model_paths)}_{os.path.basename(os.path.dirname(i))}' for i in model_list]\n",
    "model_type = 'ffn' #ffn, window\n",
    "filter_type = None # both, butter, median\n",
    "pred_list = []\n",
    "pred_xylist = []"
   ]
  },
  {
   "cell_type": "code",
   "execution_count": 9,
   "metadata": {
    "pycharm": {
     "name": "#%%\n"
    }
   },
   "outputs": [],
   "source": [
    "filter = {\n",
    "    'both': testfile.bothfilt,\n",
    "    'butter': testfile.butter,\n",
    "    'median': testfile.medfilt\n",
    "}"
   ]
  },
  {
   "cell_type": "code",
   "execution_count": 332,
   "metadata": {
    "pycharm": {
     "name": "#%%\n"
    }
   },
   "outputs": [],
   "source": [
    "# get acutal scalars\n",
    "model_scalar_path = glob.glob(os.path.join(model_paths, 'data', 'PARAM_DICTS*.pickle'))[0]\n",
    "with open(model_scalar_path, 'rb') as file:\n",
    "    dlc_params, aud_params = pickle.load(file)\n",
    "    filt_scalar = dlc_params['scalar']"
   ]
  },
  {
   "cell_type": "code",
   "execution_count": 333,
   "metadata": {
    "pycharm": {
     "name": "#%%\n"
    }
   },
   "outputs": [],
   "source": [
    "for path in model_list:\n",
    "    model = load_model(path)\n",
    "\n",
    "    if model_type == 'ffn':\n",
    "        pred_dlc = model.predict(testfile.aud_feat, verbose=0)\n",
    "    elif model_type == 'window':\n",
    "        pred_dlc = model.predict(testfile.window, verbose=0)\n",
    "\n",
    "    # need to use proper scalar\n",
    "    # pred_dlc = testfile.dlc_scalar.inverse_transform(pred_dlc)\n",
    "    pred_dlc = filt_scalar.inverse_transform(pred_dlc)\n",
    "    dlc_xy = pred_dlc.reshape((-1, 11, 2))\n",
    "\n",
    "    pred_list.append(pred_dlc)\n",
    "    pred_xylist.append(dlc_xy)"
   ]
  },
  {
   "cell_type": "code",
   "execution_count": 10,
   "metadata": {
    "pycharm": {
     "name": "#%%\n"
    }
   },
   "outputs": [],
   "source": [
    "testfile.xy = testfile.dlc.reshape((-1, 11, 2))\n",
    "testfile.both_xy = testfile.bothfilt.reshape((-1, 11, 2))\n",
    "testfile.med_xy = testfile.medfilt.reshape((-1, 11, 2))\n",
    "testfile.butter_xy = testfile.butter.reshape((-1, 11, 2))"
   ]
  },
  {
   "cell_type": "code",
   "execution_count": 11,
   "metadata": {
    "pycharm": {
     "name": "#%%\n"
    }
   },
   "outputs": [],
   "source": [
    "testfile.col_names = ['vallecula_x', 'vallecula_y', 'tongueRoot1_x', 'tongueRoot1_y',\n",
    "       'tongueRoot2_x', 'tongueRoot2_y', 'tongueBody1_x', 'tongueBody1_y',\n",
    "       'tongueBody2_x', 'tongueBody2_y', 'tongueDorsum1_x', 'tongueDorsum1_y',\n",
    "       'tongueDorsum2_x', 'tongueDorsum2_y', 'tongueBlade1_x',\n",
    "       'tongueBlade1_y', 'tongueBlade2_x', 'tongueBlade2_y', 'tongueTip1_x',\n",
    "       'tongueTip1_y', 'tongueTip2_x', 'tongueTip2_y']"
   ]
  },
  {
   "cell_type": "code",
   "execution_count": 336,
   "metadata": {
    "pycharm": {
     "name": "#%%\n"
    }
   },
   "outputs": [],
   "source": [
    "save_dir = os.path.join(model_paths, 'pred1')\n",
    "if not os.path.exists(save_dir):\n",
    "    os.mkdir(save_dir)\n",
    "plot_dir = os.path.join(save_dir, 'plots')\n",
    "if not os.path.exists(plot_dir):\n",
    "    os.mkdir(plot_dir)"
   ]
  },
  {
   "cell_type": "code",
   "execution_count": null,
   "metadata": {
    "pycharm": {
     "name": "#%%\n"
    }
   },
   "outputs": [],
   "source": []
  },
  {
   "cell_type": "code",
   "execution_count": 337,
   "metadata": {
    "pycharm": {
     "name": "#%%\n"
    }
   },
   "outputs": [
    {
     "data": {
      "image/png": "[encoded data removed]",
      "text/plain": [
       "<Figure size 432x288 with 1 Axes>"
      ]
     },
     "metadata": {
      "needs_background": "light"
     },
     "output_type": "display_data"
    }
   ],
   "source": [
    "# visualize each body part on graph with filters\n",
    "fig, ax = plt.subplots()\n",
    "for col in range(len(testfile.col_names)):\n",
    "    ax.set_title(testfile.col_names[col])\n",
    "    ax.set_xlabel('Time in frames (60fps)')\n",
    "    ax.set_ylabel('Pixle position')\n",
    "    xdata = np.arange(len(testfile.dlc[:, col]))\n",
    "    # plot for each model\n",
    "    for i in range(len(pred_list)):\n",
    "        ax.plot(xdata, pred_list[i][:, col], label=model_names[i], ls='--', linewidth = 1)\n",
    "    # plot the true dlc\n",
    "    ax.plot(xdata, testfile.dlc[:, col], label='True DLC', color='r')\n",
    "    # and specified filter\n",
    "    if filter_type != None:\n",
    "        ax.plot(xdata, filter[filter_type][:, col], label=filter_type)\n",
    "\n",
    "    ax.legend()\n",
    "    plt.savefig(plot_dir + f\"/{testfile.col_names[col]}.jpg\", dpi=150)\n",
    "    ax.clear()"
   ]
  },
  {
   "cell_type": "code",
   "execution_count": 338,
   "metadata": {
    "pycharm": {
     "name": "#%%\n"
    }
   },
   "outputs": [],
   "source": [
    "grid = [[model_names[0], 'butter_filter'],\n",
    "        [model_names[1], 'median_filter'],\n",
    "        ['True DLC', 'both_filters']]"
   ]
  },
  {
   "cell_type": "code",
   "execution_count": 314,
   "metadata": {
    "pycharm": {
     "name": "#%%\n"
    }
   },
   "outputs": [],
   "source": [
    "grid_dict = {\n",
    "    model_names[0]: pred_xylist[0],\n",
    "    model_names[1]: pred_xylist[1],\n",
    "    'butter_filter': testfile.butter_xy,\n",
    "    'median_filter': testfile.med_xy,\n",
    "    'True DLC': testfile.xy,\n",
    "    'both_filters': testfile.both_xy\n",
    "}"
   ]
  },
  {
   "cell_type": "code",
   "execution_count": 316,
   "metadata": {
    "pycharm": {
     "name": "#%%\n"
    }
   },
   "outputs": [
    {
     "data": {
      "image/png": "[encoded data removed]",
      "text/plain": [
       "<Figure size 720x432 with 6 Axes>"
      ]
     },
     "metadata": {
      "needs_background": "light"
     },
     "output_type": "display_data"
    }
   ],
   "source": [
    "# visualize all together with filter\n",
    "colors = np.array([100, 90, 80, 70, 60, 50, 40, 30, 20, 10, 0])\n",
    "\n",
    "fig, ax = plt.subplot_mosaic(grid, figsize=(10,6), layout='constrained')\n",
    "\n",
    "for frame in range(testfile.dlc.shape[0]):\n",
    "# for frame in range(7,8):\n",
    "    for i in ax:\n",
    "        ax[i].set_title(f'{i}')\n",
    "        ax[i].set_xlim([130, 430])\n",
    "        ax[i].set_ylim([-330, -50])\n",
    "        ax[i].scatter(grid_dict[i][frame, :, 0], -grid_dict[i][frame, :, 1], c=colors, cmap='plasma')\n",
    "\n",
    "# plt.savefig(save_dir + \"/full_scatter.jpg\")\n",
    "    plt.savefig(save_dir + \"/%07d.jpg\" % frame)\n",
    "    for i in ax:\n",
    "        ax[i].clear()\n",
    "# plt.show()"
   ]
  },
  {
   "cell_type": "code",
   "execution_count": 340,
   "metadata": {
    "pycharm": {
     "name": "#%%\n"
    }
   },
   "outputs": [
    {
     "name": "stderr",
     "output_type": "stream",
     "text": [
      "ffmpeg version 3.2.4 Copyright (c) 2000-2017 the FFmpeg developers\n",
      "  built with Apple LLVM version 6.1.0 (clang-602.0.53) (based on LLVM 3.6.0svn)\n",
      "  configuration: --prefix=/Users/travis/miniconda3/conda-bld/ffmpeg_1510333912089/_b_env_placehold_placehold_placehold_placehold_placehold_placehold_placehold_placehold_placehold_placehold_placehold_placehold_placehold_placehold_placehold_placehold_placehold_placehold_placehold_pl --disable-doc --enable-shared --enable-static --extra-cflags='-Wall -g -m64 -pipe -O3 -march=x86-64 -fPIC -I/Users/travis/miniconda3/conda-bld/ffmpeg_1510333912089/_b_env_placehold_placehold_placehold_placehold_placehold_placehold_placehold_placehold_placehold_placehold_placehold_placehold_placehold_placehold_placehold_placehold_placehold_placehold_placehold_pl/include' --extra-cxxflags='=-Wall -g -m64 -pipe -O3 -march=x86-64 -fPIC' --extra-libs='-L/Users/travis/miniconda3/conda-bld/ffmpeg_1510333912089/_b_env_placehold_placehold_placehold_placehold_placehold_placehold_placehold_placehold_placehold_placehold_placehold_placehold_placehold_placehold_placehold_placehold_placehold_placehold_placehold_pl/lib -lz' --enable-pic --enable-gpl --enable-version3 --enable-hardcoded-tables --enable-avresample --enable-libx264\n",
      "  libavutil      55. 34.101 / 55. 34.101\n",
      "  libavcodec     57. 64.101 / 57. 64.101\n",
      "  libavformat    57. 56.101 / 57. 56.101\n",
      "  libavdevice    57.  1.100 / 57.  1.100\n",
      "  libavfilter     6. 65.100 /  6. 65.100\n",
      "  libavresample   3.  1.  0 /  3.  1.  0\n",
      "  libswscale      4.  2.100 /  4.  2.100\n",
      "  libswresample   2.  3.100 /  2.  3.100\n",
      "  libpostproc    54.  1.100 / 54.  1.100\n",
      "Input #0, image2, from '/Users/jacobrosen/Desktop/Edinburgh/Dissertation/project_code/predictions/models/dlc_tests/ffn_dlc/pred1/%07d.jpg':\n",
      "  Duration: 00:00:04.08, start: 0.000000, bitrate: N/A\n",
      "    Stream #0:0: Video: mjpeg, yuvj420p(pc, bt470bg/unknown/unknown), 432x1440 [SAR 72:72 DAR 3:10], 25 fps, 25 tbr, 25 tbn, 25 tbc\n",
      "Please use -q:a or -q:v, -qscale is ambiguous\n",
      "[swscaler @ 0x7f97de30e000] deprecated pixel format used, make sure you did set range correctly\n",
      "Output #0, mp4, to '/Users/jacobrosen/Desktop/Edinburgh/Dissertation/project_code/predictions/models/dlc_tests/ffn_dlc/pred1/pred_226_aud.mp4':\n",
      "  Metadata:\n",
      "    encoder         : Lavf57.56.101\n",
      "    Stream #0:0: Video: mpeg4 ( [0][0][0] / 0x0020), yuv420p, 432x1440 [SAR 1:1 DAR 3:10], q=2-31, 200 kb/s, 60 fps, 15360 tbn, 60 tbc\n",
      "    Metadata:\n",
      "      encoder         : Lavc57.64.101 mpeg4\n",
      "    Side data:\n",
      "      cpb: bitrate max/min/avg: 0/0/200000 buffer size: 0 vbv_delay: -1\n",
      "Stream mapping:\n",
      "  Stream #0:0 -> #0:0 (mjpeg (native) -> mpeg4 (native))\n",
      "Press [q] to stop, [?] for help\n",
      "Past duration 0.999992 too large\n",
      "    Last message repeated 93 times\n",
      "Past duration 0.999992 too large    877kB time=00:00:01.58 bitrate=4539.7kbits/s dup=1 drop=0 speed=3.16x    \n",
      "    Last message repeated 6 times\n",
      "frame=  103 fps=0.0 q=5.0 Lsize=     955kB time=00:00:01.70 bitrate=4602.1kbits/s dup=1 drop=0 speed=3.16x    \n",
      "video:954kB audio:0kB subtitle:0kB other streams:0kB global headers:0kB muxing overhead: 0.135258%\n"
     ]
    }
   ],
   "source": [
    "make_vid(save_dir, f'pred_{testfile.basename}')"
   ]
  },
  {
   "cell_type": "code",
   "execution_count": null,
   "metadata": {
    "pycharm": {
     "name": "#%%\n"
    }
   },
   "outputs": [],
   "source": []
  },
  {
   "cell_type": "code",
   "execution_count": null,
   "metadata": {
    "pycharm": {
     "name": "#%%\n"
    }
   },
   "outputs": [],
   "source": []
  },
  {
   "cell_type": "code",
   "execution_count": 325,
   "metadata": {
    "pycharm": {
     "name": "#%%\n"
    }
   },
   "outputs": [
    {
     "data": {
      "image/png": "[encoded data removed]",
      "text/plain": [
       "<Figure size 432x288 with 1 Axes>"
      ]
     },
     "metadata": {
      "needs_background": "light"
     },
     "output_type": "display_data"
    }
   ],
   "source": [
    "# ******for the vanilla example *******\n",
    "# visualize each body part on graph original ffn_dlc\n",
    "fig, ax = plt.subplots()\n",
    "for col in range(len(testfile.col_names)):\n",
    "    ax.set_title(testfile.col_names[col])\n",
    "    ax.set_xlabel('Time in frames (60fps)')\n",
    "    ax.set_ylabel('Pixle position')\n",
    "    xdata = np.arange(len(testfile.dlc[:, col]))\n",
    "    # plot for each model\n",
    "    for i in range(len(pred_list)):\n",
    "        ax.plot(xdata, pred_list[i][:, col], label=model_names[i])\n",
    "    # plot the true dlc\n",
    "    ax.plot(xdata, testfile.dlc[:, col], label='True DLC')\n",
    "    ax.legend()\n",
    "    plt.savefig(plot_dir + f\"/{testfile.col_names[col]}.jpg\", dpi=150)\n",
    "    ax.clear()"
   ]
  },
  {
   "cell_type": "code",
   "execution_count": 339,
   "metadata": {
    "pycharm": {
     "name": "#%%\n"
    }
   },
   "outputs": [
    {
     "data": {
      "image/png": "[encoded data removed]",
      "text/plain": [
       "<Figure size 432x1440 with 7 Axes>"
      ]
     },
     "metadata": {
      "needs_background": "light"
     },
     "output_type": "display_data"
    }
   ],
   "source": [
    "# visualize all together original ffn_dlc\n",
    "true = testfile.xy\n",
    "colors = np.array([100, 90, 80, 70, 60, 50, 40, 30, 20, 10, 0])\n",
    "fig, ax = plt.subplots(figsize=(6,20),nrows=len(pred_list) + 1, layout='constrained')\n",
    "\n",
    "for frame in range(true.shape[0]):\n",
    "# for frame in range(1):\n",
    "    for i in range(len(pred_list)): # each pred model\n",
    "        pred = pred_xylist[i]\n",
    "        ax[i].set_title(f'{model_names[i]}')\n",
    "        ax[i].set_xlim([160, 400])\n",
    "        ax[i].set_ylim([-300, -80])\n",
    "        ax[i].scatter(pred[frame, :, 0], -pred[frame, :, 1], c=colors, cmap='plasma')\n",
    "\n",
    "    # true dlc\n",
    "    i += 1\n",
    "    ax[i].set_title('True DLC')\n",
    "    ax[i].set_xlim([160, 400])\n",
    "    ax[i].set_ylim([-300, -80])\n",
    "    ax[i].scatter(true[frame, :, 0], -true[frame, :, 1], c=colors, cmap='plasma')\n",
    "\n",
    "# plt.savefig(save_dir + \"/full_scatter.jpg\")\n",
    "    plt.savefig(save_dir + \"/%07d.jpg\" % frame)\n",
    "    for i in range(len(ax)):\n",
    "        ax[i].clear()"
   ]
  },
  {
   "cell_type": "code",
   "execution_count": null,
   "metadata": {
    "pycharm": {
     "name": "#%%\n"
    }
   },
   "outputs": [],
   "source": []
  },
  {
   "cell_type": "code",
   "execution_count": 479,
   "metadata": {
    "pycharm": {
     "name": "#%%\n"
    }
   },
   "outputs": [],
   "source": [
    "# *******Comparing differnt filters*******\n",
    "testfile_path = testfiles[1]\n",
    "# load in testfile\n",
    "with open(testfile_path, 'rb') as file:\n",
    "    testfile = pickle.load(file)\n",
    "# only looking at model2\n",
    "model_paths = 'speech2ult/predictions/models/dlc_tests'\n",
    "model_list = glob.glob(model_paths + '/**/model2/*.json')\n",
    "model_list.remove('speech2ult/predictions/models/dlc_tests/ffn_dlc_w_both/model2/DNN_ffn_dlc_w_both_2022-08-04_model.json')\n",
    "model_list.remove('speech2ult/predictions/models/dlc_tests/ffn_dlc_w_med/model2/DNN_ffn_dlc_w_med_2022-08-04_model.json')\n",
    "\n",
    "model_names = [path.lstrip(model_paths).split('/')[0] for path in model_list]\n",
    "model_type = ['ffn' if 'w' not in model else 'window' for model in model_names]\n",
    "filter_type = []\n",
    "for model in model_names:\n",
    "    if model.endswith('butter'):\n",
    "        filter_type.append('butter')\n",
    "    elif model.endswith('med'):\n",
    "        filter_type.append('median')\n",
    "    elif model.endswith('both'):\n",
    "        filter_type.append('both')\n",
    "    else:\n",
    "        filter_type.append(None)\n",
    "\n",
    "pred_list = []\n",
    "pred_xylist = []"
   ]
  },
  {
   "cell_type": "code",
   "execution_count": 480,
   "metadata": {
    "pycharm": {
     "name": "#%%\n"
    }
   },
   "outputs": [],
   "source": [
    "filter = {\n",
    "    'both': testfile.bothfilt,\n",
    "    'butter': testfile.butter,\n",
    "    'median': testfile.medfilt\n",
    "}"
   ]
  },
  {
   "cell_type": "code",
   "execution_count": 481,
   "metadata": {
    "pycharm": {
     "name": "#%%\n"
    }
   },
   "outputs": [],
   "source": [
    "# get acutal scalars\n",
    "scalars = []\n",
    "for model in model_list:\n",
    "    path = os.path.dirname(model)\n",
    "    model_scalar_path = glob.glob(os.path.join(path, '../data', 'PARAM_DICTS*.pickle'))[0]\n",
    "    with open(model_scalar_path, 'rb') as file:\n",
    "        dlc_params, aud_params = pickle.load(file)\n",
    "    scalars.append(dlc_params['scalar'])"
   ]
  },
  {
   "cell_type": "code",
   "execution_count": 390,
   "metadata": {
    "pycharm": {
     "name": "#%%\n"
    }
   },
   "outputs": [
    {
     "name": "stdout",
     "output_type": "stream",
     "text": [
      "ffn_dlc_w\n",
      "Model: \"sequential\"\n",
      "_________________________________________________________________\n",
      " Layer (type)                Output Shape              Param #   \n",
      "=================================================================\n",
      " dense (Dense)               (None, 1000)              201000    \n",
      "                                                                 \n",
      " dense_1 (Dense)             (None, 1000)              1001000   \n",
      "                                                                 \n",
      " dense_2 (Dense)             (None, 1000)              1001000   \n",
      "                                                                 \n",
      " dense_3 (Dense)             (None, 1000)              1001000   \n",
      "                                                                 \n",
      " dense_4 (Dense)             (None, 1000)              1001000   \n",
      "                                                                 \n",
      " dense_5 (Dense)             (None, 22)                22022     \n",
      "                                                                 \n",
      "=================================================================\n",
      "Total params: 4,227,022\n",
      "Trainable params: 4,227,022\n",
      "Non-trainable params: 0\n",
      "_________________________________________________________________\n",
      "ffn_dlc\n",
      "Model: \"sequential\"\n",
      "_________________________________________________________________\n",
      " Layer (type)                Output Shape              Param #   \n",
      "=================================================================\n",
      " dense (Dense)               (None, 1000)              41000     \n",
      "                                                                 \n",
      " dense_1 (Dense)             (None, 1000)              1001000   \n",
      "                                                                 \n",
      " dense_2 (Dense)             (None, 1000)              1001000   \n",
      "                                                                 \n",
      " dense_3 (Dense)             (None, 1000)              1001000   \n",
      "                                                                 \n",
      " dense_4 (Dense)             (None, 1000)              1001000   \n",
      "                                                                 \n",
      " dense_5 (Dense)             (None, 22)                22022     \n",
      "                                                                 \n",
      "=================================================================\n",
      "Total params: 4,067,022\n",
      "Trainable params: 4,067,022\n",
      "Non-trainable params: 0\n",
      "_________________________________________________________________\n",
      "ffn_dlc_w_butter\n",
      "Model: \"sequential\"\n",
      "_________________________________________________________________\n",
      " Layer (type)                Output Shape              Param #   \n",
      "=================================================================\n",
      " dense (Dense)               (None, 1000)              201000    \n",
      "                                                                 \n",
      " dense_1 (Dense)             (None, 1000)              1001000   \n",
      "                                                                 \n",
      " dense_2 (Dense)             (None, 1000)              1001000   \n",
      "                                                                 \n",
      " dense_3 (Dense)             (None, 1000)              1001000   \n",
      "                                                                 \n",
      " dense_4 (Dense)             (None, 1000)              1001000   \n",
      "                                                                 \n",
      " dense_5 (Dense)             (None, 22)                22022     \n",
      "                                                                 \n",
      "=================================================================\n",
      "Total params: 4,227,022\n",
      "Trainable params: 4,227,022\n",
      "Non-trainable params: 0\n",
      "_________________________________________________________________\n",
      "ffn_dlc_med\n",
      "Model: \"sequential\"\n",
      "_________________________________________________________________\n",
      " Layer (type)                Output Shape              Param #   \n",
      "=================================================================\n",
      " dense (Dense)               (None, 1000)              41000     \n",
      "                                                                 \n",
      " dense_1 (Dense)             (None, 1000)              1001000   \n",
      "                                                                 \n",
      " dense_2 (Dense)             (None, 1000)              1001000   \n",
      "                                                                 \n",
      " dense_3 (Dense)             (None, 1000)              1001000   \n",
      "                                                                 \n",
      " dense_4 (Dense)             (None, 1000)              1001000   \n",
      "                                                                 \n",
      " dense_5 (Dense)             (None, 22)                22022     \n",
      "                                                                 \n",
      "=================================================================\n",
      "Total params: 4,067,022\n",
      "Trainable params: 4,067,022\n",
      "Non-trainable params: 0\n",
      "_________________________________________________________________\n",
      "ffn_dlc_butter\n",
      "Model: \"sequential\"\n",
      "_________________________________________________________________\n",
      " Layer (type)                Output Shape              Param #   \n",
      "=================================================================\n",
      " dense (Dense)               (None, 1000)              41000     \n",
      "                                                                 \n",
      " dense_1 (Dense)             (None, 1000)              1001000   \n",
      "                                                                 \n",
      " dense_2 (Dense)             (None, 1000)              1001000   \n",
      "                                                                 \n",
      " dense_3 (Dense)             (None, 1000)              1001000   \n",
      "                                                                 \n",
      " dense_4 (Dense)             (None, 1000)              1001000   \n",
      "                                                                 \n",
      " dense_5 (Dense)             (None, 22)                22022     \n",
      "                                                                 \n",
      "=================================================================\n",
      "Total params: 4,067,022\n",
      "Trainable params: 4,067,022\n",
      "Non-trainable params: 0\n",
      "_________________________________________________________________\n",
      "ffn_dlc_both\n",
      "Model: \"sequential\"\n",
      "_________________________________________________________________\n",
      " Layer (type)                Output Shape              Param #   \n",
      "=================================================================\n",
      " dense (Dense)               (None, 1000)              41000     \n",
      "                                                                 \n",
      " dense_1 (Dense)             (None, 1000)              1001000   \n",
      "                                                                 \n",
      " dense_2 (Dense)             (None, 1000)              1001000   \n",
      "                                                                 \n",
      " dense_3 (Dense)             (None, 1000)              1001000   \n",
      "                                                                 \n",
      " dense_4 (Dense)             (None, 1000)              1001000   \n",
      "                                                                 \n",
      " dense_5 (Dense)             (None, 22)                22022     \n",
      "                                                                 \n",
      "=================================================================\n",
      "Total params: 4,067,022\n",
      "Trainable params: 4,067,022\n",
      "Non-trainable params: 0\n",
      "_________________________________________________________________\n"
     ]
    }
   ],
   "source": [
    "# make predictions\n",
    "for i, path in enumerate(model_list):\n",
    "    model = load_model(path)\n",
    "\n",
    "    if model_type[i] == 'ffn':\n",
    "        pred_dlc = model.predict(testfile.aud_feat, verbose=0)\n",
    "    elif model_type[i] == 'window':\n",
    "        pred_dlc = model.predict(testfile.window, verbose=0)\n",
    "\n",
    "    # need to use proper scalar\n",
    "    # pred_dlc = testfile.dlc_scalar.inverse_transform(pred_dlc)\n",
    "    pred_dlc = scalars[i].inverse_transform(pred_dlc)\n",
    "    dlc_xy = pred_dlc.reshape((-1, 11, 2))\n",
    "\n",
    "    pred_list.append(pred_dlc)\n",
    "    pred_xylist.append(dlc_xy)"
   ]
  },
  {
   "cell_type": "code",
   "execution_count": 391,
   "metadata": {
    "pycharm": {
     "name": "#%%\n"
    }
   },
   "outputs": [],
   "source": [
    "testfile.xy = testfile.dlc.reshape((-1, 11, 2))\n",
    "testfile.both_xy = testfile.bothfilt.reshape((-1, 11, 2))\n",
    "testfile.med_xy = testfile.medfilt.reshape((-1, 11, 2))\n",
    "testfile.butter_xy = testfile.butter.reshape((-1, 11, 2))\n",
    "\n",
    "testfile.col_names = ['vallecula_x', 'vallecula_y', 'tongueRoot1_x', 'tongueRoot1_y',\n",
    "       'tongueRoot2_x', 'tongueRoot2_y', 'tongueBody1_x', 'tongueBody1_y',\n",
    "       'tongueBody2_x', 'tongueBody2_y', 'tongueDorsum1_x', 'tongueDorsum1_y',\n",
    "       'tongueDorsum2_x', 'tongueDorsum2_y', 'tongueBlade1_x',\n",
    "       'tongueBlade1_y', 'tongueBlade2_x', 'tongueBlade2_y', 'tongueTip1_x',\n",
    "       'tongueTip1_y', 'tongueTip2_x', 'tongueTip2_y']"
   ]
  },
  {
   "cell_type": "code",
   "execution_count": 392,
   "metadata": {
    "pycharm": {
     "name": "#%%\n"
    }
   },
   "outputs": [],
   "source": [
    "# set the save dir\n",
    "save_dir = os.path.join(model_paths, f'pred_{testfile.basename}')\n",
    "if not os.path.exists(save_dir):\n",
    "    os.mkdir(save_dir)\n",
    "plot_dir = os.path.join(save_dir, 'plots')\n",
    "if not os.path.exists(plot_dir):\n",
    "    os.mkdir(plot_dir)"
   ]
  },
  {
   "cell_type": "code",
   "execution_count": 393,
   "metadata": {
    "pycharm": {
     "name": "#%%\n"
    }
   },
   "outputs": [
    {
     "data": {
      "image/png": "[encoded data removed]",
      "text/plain": [
       "<Figure size 432x288 with 1 Axes>"
      ]
     },
     "metadata": {
      "needs_background": "light"
     },
     "output_type": "display_data"
    }
   ],
   "source": [
    "# visualize each body part on graph with filters\n",
    "fig, ax = plt.subplots()\n",
    "for col in range(len(testfile.col_names)):\n",
    "    ax.set_title(testfile.col_names[col])\n",
    "    ax.set_xlabel('Time in frames (60fps)')\n",
    "    ax.set_ylabel('Pixle position')\n",
    "    xdata = np.arange(len(testfile.dlc[:, col]))\n",
    "    # plot for each model\n",
    "    for i in range(len(pred_list)):\n",
    "        ax.plot(xdata, pred_list[i][:, col], label=model_names[i], ls='--', linewidth = 1)\n",
    "    # plot the true dlc\n",
    "    ax.plot(xdata, testfile.dlc[:, col], label='True DLC', color='r')\n",
    "\n",
    "    ax.legend()\n",
    "    plt.savefig(plot_dir + f\"/{testfile.col_names[col]}.jpg\", dpi=150)\n",
    "    ax.clear()"
   ]
  },
  {
   "cell_type": "code",
   "execution_count": 398,
   "metadata": {
    "pycharm": {
     "name": "#%%\n"
    }
   },
   "outputs": [],
   "source": [
    "grid = [[model_names[0], model_names[3]],\n",
    "        [model_names[1], model_names[4]],\n",
    "        [model_names[2], model_names[5]],\n",
    "        ['True DLC', 'butter_filter']]"
   ]
  },
  {
   "cell_type": "code",
   "execution_count": 395,
   "metadata": {
    "pycharm": {
     "name": "#%%\n"
    }
   },
   "outputs": [],
   "source": [
    "grid_dict = {model_names[i]: pred_xylist[i] for i in range(6)}\n",
    "grid_dict['butter_filter'] = testfile.butter_xy\n",
    "grid_dict['True DLC'] = testfile.xy"
   ]
  },
  {
   "cell_type": "code",
   "execution_count": 407,
   "metadata": {
    "pycharm": {
     "name": "#%%\n"
    }
   },
   "outputs": [
    {
     "data": {
      "image/png": "[encoded data removed]",
      "text/plain": [
       "<Figure size 648x576 with 8 Axes>"
      ]
     },
     "metadata": {
      "needs_background": "light"
     },
     "output_type": "display_data"
    }
   ],
   "source": [
    "# visualize all together with filter\n",
    "colors = np.array([100, 90, 80, 70, 60, 50, 40, 30, 20, 10, 0])\n",
    "\n",
    "fig, ax = plt.subplot_mosaic(grid, figsize=(9,8), layout='constrained')\n",
    "\n",
    "for frame in range(testfile.dlc.shape[0]):\n",
    "# for frame in range(7,8):\n",
    "    for i in ax:\n",
    "        ax[i].set_title(f'{i}')\n",
    "        ax[i].set_xlim([130, 430])\n",
    "        ax[i].set_ylim([-330, -50])\n",
    "        ax[i].scatter(grid_dict[i][frame, :, 0], -grid_dict[i][frame, :, 1], c=colors, cmap='plasma')\n",
    "\n",
    "# plt.savefig(save_dir + \"/full_scatter.jpg\")\n",
    "    plt.savefig(save_dir + \"/%07d.jpg\" % frame)\n",
    "    for i in ax:\n",
    "        ax[i].clear()\n",
    "# plt.show()"
   ]
  },
  {
   "cell_type": "code",
   "execution_count": 415,
   "metadata": {
    "pycharm": {
     "name": "#%%\n"
    }
   },
   "outputs": [
    {
     "name": "stderr",
     "output_type": "stream",
     "text": [
      "ffmpeg version 3.2.4 Copyright (c) 2000-2017 the FFmpeg developers\n",
      "  built with Apple LLVM version 6.1.0 (clang-602.0.53) (based on LLVM 3.6.0svn)\n",
      "  configuration: --prefix=/Users/travis/miniconda3/conda-bld/ffmpeg_1510333912089/_b_env_placehold_placehold_placehold_placehold_placehold_placehold_placehold_placehold_placehold_placehold_placehold_placehold_placehold_placehold_placehold_placehold_placehold_placehold_placehold_pl --disable-doc --enable-shared --enable-static --extra-cflags='-Wall -g -m64 -pipe -O3 -march=x86-64 -fPIC -I/Users/travis/miniconda3/conda-bld/ffmpeg_1510333912089/_b_env_placehold_placehold_placehold_placehold_placehold_placehold_placehold_placehold_placehold_placehold_placehold_placehold_placehold_placehold_placehold_placehold_placehold_placehold_placehold_pl/include' --extra-cxxflags='=-Wall -g -m64 -pipe -O3 -march=x86-64 -fPIC' --extra-libs='-L/Users/travis/miniconda3/conda-bld/ffmpeg_1510333912089/_b_env_placehold_placehold_placehold_placehold_placehold_placehold_placehold_placehold_placehold_placehold_placehold_placehold_placehold_placehold_placehold_placehold_placehold_placehold_placehold_pl/lib -lz' --enable-pic --enable-gpl --enable-version3 --enable-hardcoded-tables --enable-avresample --enable-libx264\n",
      "  libavutil      55. 34.101 / 55. 34.101\n",
      "  libavcodec     57. 64.101 / 57. 64.101\n",
      "  libavformat    57. 56.101 / 57. 56.101\n",
      "  libavdevice    57.  1.100 / 57.  1.100\n",
      "  libavfilter     6. 65.100 /  6. 65.100\n",
      "  libavresample   3.  1.  0 /  3.  1.  0\n",
      "  libswscale      4.  2.100 /  4.  2.100\n",
      "  libswresample   2.  3.100 /  2.  3.100\n",
      "  libpostproc    54.  1.100 / 54.  1.100\n",
      "Input #0, image2, from '/Users/jacobrosen/Desktop/Edinburgh/Dissertation/project_code/predictions/models/dlc_tests/pred_226_aud/%07d.jpg':\n",
      "  Duration: 00:00:04.08, start: 0.000000, bitrate: N/A\n",
      "    Stream #0:0: Video: mjpeg, yuvj420p(pc, bt470bg/unknown/unknown), 648x576 [SAR 72:72 DAR 9:8], 25 fps, 25 tbr, 25 tbn, 25 tbc\n",
      "Please use -q:a or -q:v, -qscale is ambiguous\n",
      "[swscaler @ 0x7fa720f85000] deprecated pixel format used, make sure you did set range correctly\n",
      "Output #0, avi, to '/Users/jacobrosen/Desktop/Edinburgh/Dissertation/project_code/predictions/models/dlc_tests/pred_226_aud/pred_226_aud.avi':\n",
      "  Metadata:\n",
      "    ISFT            : Lavf57.56.101\n",
      "    Stream #0:0: Video: mpeg4 (FMP4 / 0x34504D46), yuv420p, 648x576 [SAR 1:1 DAR 9:8], q=2-31, 200 kb/s, 60 fps, 60 tbn, 60 tbc\n",
      "    Metadata:\n",
      "      encoder         : Lavc57.64.101 mpeg4\n",
      "    Side data:\n",
      "      cpb: bitrate max/min/avg: 0/0/200000 buffer size: 0 vbv_delay: -1\n",
      "Stream mapping:\n",
      "  Stream #0:0 -> #0:0 (mjpeg (native) -> mpeg4 (native))\n",
      "Press [q] to stop, [?] for help\n",
      "frame=  102 fps=0.0 q=5.0 Lsize=     826kB time=00:00:01.70 bitrate=3978.3kbits/s speed=3.72x    \n",
      "video:818kB audio:0kB subtitle:0kB other streams:0kB global headers:0kB muxing overhead: 0.987064%\n"
     ]
    }
   ],
   "source": [
    "make_vid(save_dir, f'pred_{testfile.basename}', 'avi')"
   ]
  },
  {
   "cell_type": "code",
   "execution_count": 411,
   "metadata": {
    "pycharm": {
     "name": "#%%\n"
    }
   },
   "outputs": [],
   "source": [
    "# for audio\n",
    "import soundfile as sf\n",
    "test_data = 'speech2ult/predictions/test_data'\n",
    "sf.write(test_data+f'/sync_{testfile.basename}.wav', testfile.wav, testfile.sr)"
   ]
  },
  {
   "cell_type": "code",
   "execution_count": 416,
   "metadata": {
    "pycharm": {
     "name": "#%%\n"
    }
   },
   "outputs": [
    {
     "name": "stderr",
     "output_type": "stream",
     "text": [
      "ffmpeg version 3.2.4 Copyright (c) 2000-2017 the FFmpeg developers\n",
      "  built with Apple LLVM version 6.1.0 (clang-602.0.53) (based on LLVM 3.6.0svn)\n",
      "  configuration: --prefix=/Users/travis/miniconda3/conda-bld/ffmpeg_1510333912089/_b_env_placehold_placehold_placehold_placehold_placehold_placehold_placehold_placehold_placehold_placehold_placehold_placehold_placehold_placehold_placehold_placehold_placehold_placehold_placehold_pl --disable-doc --enable-shared --enable-static --extra-cflags='-Wall -g -m64 -pipe -O3 -march=x86-64 -fPIC -I/Users/travis/miniconda3/conda-bld/ffmpeg_1510333912089/_b_env_placehold_placehold_placehold_placehold_placehold_placehold_placehold_placehold_placehold_placehold_placehold_placehold_placehold_placehold_placehold_placehold_placehold_placehold_placehold_pl/include' --extra-cxxflags='=-Wall -g -m64 -pipe -O3 -march=x86-64 -fPIC' --extra-libs='-L/Users/travis/miniconda3/conda-bld/ffmpeg_1510333912089/_b_env_placehold_placehold_placehold_placehold_placehold_placehold_placehold_placehold_placehold_placehold_placehold_placehold_placehold_placehold_placehold_placehold_placehold_placehold_placehold_pl/lib -lz' --enable-pic --enable-gpl --enable-version3 --enable-hardcoded-tables --enable-avresample --enable-libx264\n",
      "  libavutil      55. 34.101 / 55. 34.101\n",
      "  libavcodec     57. 64.101 / 57. 64.101\n",
      "  libavformat    57. 56.101 / 57. 56.101\n",
      "  libavdevice    57.  1.100 / 57.  1.100\n",
      "  libavfilter     6. 65.100 /  6. 65.100\n",
      "  libavresample   3.  1.  0 /  3.  1.  0\n",
      "  libswscale      4.  2.100 /  4.  2.100\n",
      "  libswresample   2.  3.100 /  2.  3.100\n",
      "  libpostproc    54.  1.100 / 54.  1.100\n",
      "Guessed Channel Layout for Input Stream #0.0 : mono\n",
      "Input #0, wav, from '/Users/jacobrosen/Desktop/Edinburgh/Dissertation/project_code/predictions/test_data/sync_226_aud.wav':\n",
      "  Duration: 00:00:01.69, bitrate: 320 kb/s\n",
      "    Stream #0:0: Audio: pcm_s16le ([1][0][0][0] / 0x0001), 20000 Hz, mono, s16, 320 kb/s\n",
      "Input #1, avi, from '/Users/jacobrosen/Desktop/Edinburgh/Dissertation/project_code/predictions/models/dlc_tests/pred_226_aud/pred_226_aud.avi':\n",
      "  Metadata:\n",
      "    encoder         : Lavf57.56.101\n",
      "  Duration: 00:00:01.70, start: 0.000000, bitrate: 3978 kb/s\n",
      "    Stream #1:0: Video: mpeg4 (Simple Profile) (FMP4 / 0x34504D46), yuv420p, 648x576 [SAR 1:1 DAR 9:8], 3978 kb/s, 60 fps, 60 tbr, 60 tbn, 60 tbc\n",
      "Output #0, avi, to '/Users/jacobrosen/Desktop/Edinburgh/Dissertation/project_code/predictions/models/dlc_tests/pred_226_aud/with_aud.avi':\n",
      "  Metadata:\n",
      "    ISFT            : Lavf57.56.101\n",
      "    Stream #0:0: Video: mpeg4 (Simple Profile) (FMP4 / 0x34504D46), yuv420p, 648x576 [SAR 1:1 DAR 9:8], q=2-31, 3978 kb/s, 60 fps, 60 tbr, 60 tbn, 60 tbc\n",
      "    Stream #0:1: Audio: pcm_s16le ([1][0][0][0] / 0x0001), 20000 Hz, mono, 320 kb/s\n",
      "Stream mapping:\n",
      "  Stream #1:0 -> #0:0 (copy)\n",
      "  Stream #0:0 -> #0:1 (copy)\n",
      "Press [q] to stop, [?] for help\n",
      "frame=  100 fps=0.0 q=-1.0 Lsize=     889kB time=00:00:01.66 bitrate=4369.0kbits/s speed= 263x    \n",
      "video:810kB audio:66kB subtitle:0kB other streams:0kB global headers:0kB muxing overhead: 1.437508%\n"
     ]
    },
    {
     "data": {
      "text/plain": [
       "0"
      ]
     },
     "execution_count": 416,
     "metadata": {},
     "output_type": "execute_result"
    }
   ],
   "source": [
    "subprocess.call(\n",
    "        [\"ffmpeg\",\n",
    "         \"-i\", test_data+f'/sync_{testfile.basename}.wav',\n",
    "         \"-i\", save_dir + f'/pred_{testfile.basename}.avi',\n",
    "         \"-codec\", \"copy\", \"-shortest\", save_dir + \"/with_aud.avi\"])"
   ]
  },
  {
   "cell_type": "code",
   "execution_count": 501,
   "metadata": {
    "pycharm": {
     "name": "#%%\n"
    }
   },
   "outputs": [],
   "source": [
    "from sklearn.preprocessing import MinMaxScaler"
   ]
  },
  {
   "cell_type": "code",
   "execution_count": null,
   "metadata": {
    "pycharm": {
     "name": "#%%\n"
    }
   },
   "outputs": [],
   "source": [
    "#*********DLC2ULt*******************"
   ]
  },
  {
   "cell_type": "code",
   "execution_count": 511,
   "metadata": {
    "pycharm": {
     "name": "#%%\n"
    }
   },
   "outputs": [],
   "source": [
    "# need to use differnt scalars for each filter\n",
    "scalar_dict = {\n",
    "    'orig': scalars[1],\n",
    "    'median': scalars[3],\n",
    "    'butter': scalars[4],\n",
    "    'both': scalars[5]\n",
    "}"
   ]
  },
  {
   "cell_type": "code",
   "execution_count": 512,
   "metadata": {
    "pycharm": {
     "name": "#%%\n"
    }
   },
   "outputs": [],
   "source": [
    "dlc_input = {\n",
    "    'both': testfile.bothfilt,\n",
    "    'butter': testfile.butter,\n",
    "    'median': testfile.medfilt,\n",
    "    'orig': testfile.dlc\n",
    "}\n",
    "\n",
    "for key in dlc_input:\n",
    "    dlc_input[key] = scalar_dict[key].transform(dlc_input[key])"
   ]
  },
  {
   "cell_type": "code",
   "execution_count": 417,
   "metadata": {
    "pycharm": {
     "name": "#%%\n"
    }
   },
   "outputs": [],
   "source": [
    "#run from here"
   ]
  },
  {
   "cell_type": "code",
   "execution_count": 8,
   "metadata": {
    "pycharm": {
     "name": "#%%\n"
    }
   },
   "outputs": [],
   "source": [
    "testfile_path = testfiles[1]\n",
    "# load in testfile\n",
    "with open(testfile_path, 'rb') as file:\n",
    "    testfile = pickle.load(file)\n",
    "testfile.transform = transfrom(testfile.ult)"
   ]
  },
  {
   "cell_type": "code",
   "execution_count": 491,
   "metadata": {
    "pycharm": {
     "name": "#%%\n"
    }
   },
   "outputs": [],
   "source": [
    "model_paths = 'speech2ult/predictions/models/dlc2ult'\n",
    "model_list = glob.glob(model_paths + '/**/*.json')\n",
    "model_names = [os.path.basename(os.path.dirname(model)) for model in model_list]"
   ]
  },
  {
   "cell_type": "code",
   "execution_count": 531,
   "metadata": {
    "pycharm": {
     "name": "#%%\n"
    }
   },
   "outputs": [],
   "source": [
    "# for each model predict using each filter\n",
    "pred_list = []\n",
    "for path in model_list:\n",
    "    model = load_model(path)\n",
    "    model_preds = {}\n",
    "\n",
    "    for key in dlc_input:\n",
    "        model_preds[key] = model.predict(dlc_input[key], verbose=0)\n",
    "        model_preds[key] = transfrom(model_preds[key].reshape(-1, 64, 128))\n",
    "\n",
    "    pred_list.append(model_preds)\n"
   ]
  },
  {
   "cell_type": "code",
   "execution_count": 499,
   "metadata": {
    "pycharm": {
     "name": "#%%\n"
    }
   },
   "outputs": [],
   "source": [
    "save_dir_list = []\n",
    "for i in range(len(model_list)):\n",
    "    save_dir = os.path.join(model_paths, model_names[i], f'pred_{testfile.basename}')\n",
    "    if not os.path.exists(save_dir):\n",
    "        os.mkdir(save_dir)\n",
    "    save_dir_list.append(save_dir)"
   ]
  },
  {
   "cell_type": "code",
   "execution_count": 519,
   "metadata": {
    "pycharm": {
     "name": "#%%\n"
    }
   },
   "outputs": [],
   "source": [
    "keys = list(model_preds.keys())\n",
    "mod = 0"
   ]
  },
  {
   "cell_type": "code",
   "execution_count": 517,
   "metadata": {
    "pycharm": {
     "name": "#%%\n"
    }
   },
   "outputs": [
    {
     "data": {
      "text/plain": [
       "1.2057684659957886"
      ]
     },
     "execution_count": 517,
     "metadata": {},
     "output_type": "execute_result"
    }
   ],
   "source": []
  },
  {
   "cell_type": "code",
   "execution_count": 534,
   "metadata": {
    "pycharm": {
     "name": "#%%\n"
    }
   },
   "outputs": [
    {
     "name": "stderr",
     "output_type": "stream",
     "text": [
      "ffmpeg version 3.2.4 Copyright (c) 2000-2017 the FFmpeg developers\n",
      "  built with Apple LLVM version 6.1.0 (clang-602.0.53) (based on LLVM 3.6.0svn)\n",
      "  configuration: --prefix=/Users/travis/miniconda3/conda-bld/ffmpeg_1510333912089/_b_env_placehold_placehold_placehold_placehold_placehold_placehold_placehold_placehold_placehold_placehold_placehold_placehold_placehold_placehold_placehold_placehold_placehold_placehold_placehold_pl --disable-doc --enable-shared --enable-static --extra-cflags='-Wall -g -m64 -pipe -O3 -march=x86-64 -fPIC -I/Users/travis/miniconda3/conda-bld/ffmpeg_1510333912089/_b_env_placehold_placehold_placehold_placehold_placehold_placehold_placehold_placehold_placehold_placehold_placehold_placehold_placehold_placehold_placehold_placehold_placehold_placehold_placehold_pl/include' --extra-cxxflags='=-Wall -g -m64 -pipe -O3 -march=x86-64 -fPIC' --extra-libs='-L/Users/travis/miniconda3/conda-bld/ffmpeg_1510333912089/_b_env_placehold_placehold_placehold_placehold_placehold_placehold_placehold_placehold_placehold_placehold_placehold_placehold_placehold_placehold_placehold_placehold_placehold_placehold_placehold_pl/lib -lz' --enable-pic --enable-gpl --enable-version3 --enable-hardcoded-tables --enable-avresample --enable-libx264\n",
      "  libavutil      55. 34.101 / 55. 34.101\n",
      "  libavcodec     57. 64.101 / 57. 64.101\n",
      "  libavformat    57. 56.101 / 57. 56.101\n",
      "  libavdevice    57.  1.100 / 57.  1.100\n",
      "  libavfilter     6. 65.100 /  6. 65.100\n",
      "  libavresample   3.  1.  0 /  3.  1.  0\n",
      "  libswscale      4.  2.100 /  4.  2.100\n",
      "  libswresample   2.  3.100 /  2.  3.100\n",
      "  libpostproc    54.  1.100 / 54.  1.100\n",
      "Input #0, image2, from '/Users/jacobrosen/Desktop/Edinburgh/Dissertation/project_code/predictions/models/dlc2ult/model_ffn_dlc/pred_226_aud/%07d.jpg':\n",
      "  Duration: 00:00:04.08, start: 0.000000, bitrate: N/A\n",
      "    Stream #0:0: Video: mjpeg, yuvj420p(pc, bt470bg/unknown/unknown), 900x600 [SAR 150:150 DAR 3:2], 25 fps, 25 tbr, 25 tbn, 25 tbc\n",
      "Please use -q:a or -q:v, -qscale is ambiguous\n",
      "[swscaler @ 0x7feb4d5ee000] deprecated pixel format used, make sure you did set range correctly\n",
      "Output #0, avi, to '/Users/jacobrosen/Desktop/Edinburgh/Dissertation/project_code/predictions/models/dlc2ult/model_ffn_dlc/pred_226_aud/pred_model_ffn_dlc.avi':\n",
      "  Metadata:\n",
      "    ISFT            : Lavf57.56.101\n",
      "    Stream #0:0: Video: mpeg4 (FMP4 / 0x34504D46), yuv420p, 900x600 [SAR 1:1 DAR 3:2], q=2-31, 200 kb/s, 60 fps, 60 tbn, 60 tbc\n",
      "    Metadata:\n",
      "      encoder         : Lavc57.64.101 mpeg4\n",
      "    Side data:\n",
      "      cpb: bitrate max/min/avg: 0/0/200000 buffer size: 0 vbv_delay: -1\n",
      "Stream mapping:\n",
      "  Stream #0:0 -> #0:0 (mjpeg (native) -> mpeg4 (native))\n",
      "Press [q] to stop, [?] for help\n",
      "frame=  102 fps=0.0 q=5.0 Lsize=     954kB time=00:00:01.70 bitrate=4597.4kbits/s speed= 3.4x    \n",
      "video:946kB audio:0kB subtitle:0kB other streams:0kB global headers:0kB muxing overhead: 0.852904%\n",
      "ffmpeg version 3.2.4 Copyright (c) 2000-2017 the FFmpeg developers\n",
      "  built with Apple LLVM version 6.1.0 (clang-602.0.53) (based on LLVM 3.6.0svn)\n",
      "  configuration: --prefix=/Users/travis/miniconda3/conda-bld/ffmpeg_1510333912089/_b_env_placehold_placehold_placehold_placehold_placehold_placehold_placehold_placehold_placehold_placehold_placehold_placehold_placehold_placehold_placehold_placehold_placehold_placehold_placehold_pl --disable-doc --enable-shared --enable-static --extra-cflags='-Wall -g -m64 -pipe -O3 -march=x86-64 -fPIC -I/Users/travis/miniconda3/conda-bld/ffmpeg_1510333912089/_b_env_placehold_placehold_placehold_placehold_placehold_placehold_placehold_placehold_placehold_placehold_placehold_placehold_placehold_placehold_placehold_placehold_placehold_placehold_placehold_pl/include' --extra-cxxflags='=-Wall -g -m64 -pipe -O3 -march=x86-64 -fPIC' --extra-libs='-L/Users/travis/miniconda3/conda-bld/ffmpeg_1510333912089/_b_env_placehold_placehold_placehold_placehold_placehold_placehold_placehold_placehold_placehold_placehold_placehold_placehold_placehold_placehold_placehold_placehold_placehold_placehold_placehold_pl/lib -lz' --enable-pic --enable-gpl --enable-version3 --enable-hardcoded-tables --enable-avresample --enable-libx264\n",
      "  libavutil      55. 34.101 / 55. 34.101\n",
      "  libavcodec     57. 64.101 / 57. 64.101\n",
      "  libavformat    57. 56.101 / 57. 56.101\n",
      "  libavdevice    57.  1.100 / 57.  1.100\n",
      "  libavfilter     6. 65.100 /  6. 65.100\n",
      "  libavresample   3.  1.  0 /  3.  1.  0\n",
      "  libswscale      4.  2.100 /  4.  2.100\n",
      "  libswresample   2.  3.100 /  2.  3.100\n",
      "  libpostproc    54.  1.100 / 54.  1.100\n",
      "Input #0, image2, from '/Users/jacobrosen/Desktop/Edinburgh/Dissertation/project_code/predictions/models/dlc2ult/model_ffn_butter/pred_226_aud/%07d.jpg':\n",
      "  Duration: 00:00:04.08, start: 0.000000, bitrate: N/A\n",
      "    Stream #0:0: Video: mjpeg, yuvj420p(pc, bt470bg/unknown/unknown), 900x600 [SAR 150:150 DAR 3:2], 25 fps, 25 tbr, 25 tbn, 25 tbc\n",
      "Please use -q:a or -q:v, -qscale is ambiguous\n",
      "[swscaler @ 0x7f8d47d82000] deprecated pixel format used, make sure you did set range correctly\n",
      "Output #0, avi, to '/Users/jacobrosen/Desktop/Edinburgh/Dissertation/project_code/predictions/models/dlc2ult/model_ffn_butter/pred_226_aud/pred_model_ffn_butter.avi':\n",
      "  Metadata:\n",
      "    ISFT            : Lavf57.56.101\n",
      "    Stream #0:0: Video: mpeg4 (FMP4 / 0x34504D46), yuv420p, 900x600 [SAR 1:1 DAR 3:2], q=2-31, 200 kb/s, 60 fps, 60 tbn, 60 tbc\n",
      "    Metadata:\n",
      "      encoder         : Lavc57.64.101 mpeg4\n",
      "    Side data:\n",
      "      cpb: bitrate max/min/avg: 0/0/200000 buffer size: 0 vbv_delay: -1\n",
      "Stream mapping:\n",
      "  Stream #0:0 -> #0:0 (mjpeg (native) -> mpeg4 (native))\n",
      "Press [q] to stop, [?] for help\n",
      "frame=  102 fps=0.0 q=5.0 Lsize=     936kB time=00:00:01.70 bitrate=4510.0kbits/s speed=4.51x    \n",
      "video:928kB audio:0kB subtitle:0kB other streams:0kB global headers:0kB muxing overhead: 0.868950%\n",
      "ffmpeg version 3.2.4 Copyright (c) 2000-2017 the FFmpeg developers\n",
      "  built with Apple LLVM version 6.1.0 (clang-602.0.53) (based on LLVM 3.6.0svn)\n",
      "  configuration: --prefix=/Users/travis/miniconda3/conda-bld/ffmpeg_1510333912089/_b_env_placehold_placehold_placehold_placehold_placehold_placehold_placehold_placehold_placehold_placehold_placehold_placehold_placehold_placehold_placehold_placehold_placehold_placehold_placehold_pl --disable-doc --enable-shared --enable-static --extra-cflags='-Wall -g -m64 -pipe -O3 -march=x86-64 -fPIC -I/Users/travis/miniconda3/conda-bld/ffmpeg_1510333912089/_b_env_placehold_placehold_placehold_placehold_placehold_placehold_placehold_placehold_placehold_placehold_placehold_placehold_placehold_placehold_placehold_placehold_placehold_placehold_placehold_pl/include' --extra-cxxflags='=-Wall -g -m64 -pipe -O3 -march=x86-64 -fPIC' --extra-libs='-L/Users/travis/miniconda3/conda-bld/ffmpeg_1510333912089/_b_env_placehold_placehold_placehold_placehold_placehold_placehold_placehold_placehold_placehold_placehold_placehold_placehold_placehold_placehold_placehold_placehold_placehold_placehold_placehold_pl/lib -lz' --enable-pic --enable-gpl --enable-version3 --enable-hardcoded-tables --enable-avresample --enable-libx264\n",
      "  libavutil      55. 34.101 / 55. 34.101\n",
      "  libavcodec     57. 64.101 / 57. 64.101\n",
      "  libavformat    57. 56.101 / 57. 56.101\n",
      "  libavdevice    57.  1.100 / 57.  1.100\n",
      "  libavfilter     6. 65.100 /  6. 65.100\n",
      "  libavresample   3.  1.  0 /  3.  1.  0\n",
      "  libswscale      4.  2.100 /  4.  2.100\n",
      "  libswresample   2.  3.100 /  2.  3.100\n",
      "  libpostproc    54.  1.100 / 54.  1.100\n",
      "Input #0, image2, from '/Users/jacobrosen/Desktop/Edinburgh/Dissertation/project_code/predictions/models/dlc2ult/model_ffn_both/pred_226_aud/%07d.jpg':\n",
      "  Duration: 00:00:04.08, start: 0.000000, bitrate: N/A\n",
      "    Stream #0:0: Video: mjpeg, yuvj420p(pc, bt470bg/unknown/unknown), 900x600 [SAR 150:150 DAR 3:2], 25 fps, 25 tbr, 25 tbn, 25 tbc\n",
      "Please use -q:a or -q:v, -qscale is ambiguous\n",
      "[swscaler @ 0x7fa98648b000] deprecated pixel format used, make sure you did set range correctly\n",
      "Output #0, avi, to '/Users/jacobrosen/Desktop/Edinburgh/Dissertation/project_code/predictions/models/dlc2ult/model_ffn_both/pred_226_aud/pred_model_ffn_both.avi':\n",
      "  Metadata:\n",
      "    ISFT            : Lavf57.56.101\n",
      "    Stream #0:0: Video: mpeg4 (FMP4 / 0x34504D46), yuv420p, 900x600 [SAR 1:1 DAR 3:2], q=2-31, 200 kb/s, 60 fps, 60 tbn, 60 tbc\n",
      "    Metadata:\n",
      "      encoder         : Lavc57.64.101 mpeg4\n",
      "    Side data:\n",
      "      cpb: bitrate max/min/avg: 0/0/200000 buffer size: 0 vbv_delay: -1\n",
      "Stream mapping:\n",
      "  Stream #0:0 -> #0:0 (mjpeg (native) -> mpeg4 (native))\n",
      "Press [q] to stop, [?] for help\n",
      "frame=  102 fps=0.0 q=5.0 Lsize=     921kB time=00:00:01.70 bitrate=4440.0kbits/s speed=4.01x    \n",
      "video:913kB audio:0kB subtitle:0kB other streams:0kB global headers:0kB muxing overhead: 0.883735%\n",
      "ffmpeg version 3.2.4 Copyright (c) 2000-2017 the FFmpeg developers\n",
      "  built with Apple LLVM version 6.1.0 (clang-602.0.53) (based on LLVM 3.6.0svn)\n",
      "  configuration: --prefix=/Users/travis/miniconda3/conda-bld/ffmpeg_1510333912089/_b_env_placehold_placehold_placehold_placehold_placehold_placehold_placehold_placehold_placehold_placehold_placehold_placehold_placehold_placehold_placehold_placehold_placehold_placehold_placehold_pl --disable-doc --enable-shared --enable-static --extra-cflags='-Wall -g -m64 -pipe -O3 -march=x86-64 -fPIC -I/Users/travis/miniconda3/conda-bld/ffmpeg_1510333912089/_b_env_placehold_placehold_placehold_placehold_placehold_placehold_placehold_placehold_placehold_placehold_placehold_placehold_placehold_placehold_placehold_placehold_placehold_placehold_placehold_pl/include' --extra-cxxflags='=-Wall -g -m64 -pipe -O3 -march=x86-64 -fPIC' --extra-libs='-L/Users/travis/miniconda3/conda-bld/ffmpeg_1510333912089/_b_env_placehold_placehold_placehold_placehold_placehold_placehold_placehold_placehold_placehold_placehold_placehold_placehold_placehold_placehold_placehold_placehold_placehold_placehold_placehold_pl/lib -lz' --enable-pic --enable-gpl --enable-version3 --enable-hardcoded-tables --enable-avresample --enable-libx264\n",
      "  libavutil      55. 34.101 / 55. 34.101\n",
      "  libavcodec     57. 64.101 / 57. 64.101\n",
      "  libavformat    57. 56.101 / 57. 56.101\n",
      "  libavdevice    57.  1.100 / 57.  1.100\n",
      "  libavfilter     6. 65.100 /  6. 65.100\n",
      "  libavresample   3.  1.  0 /  3.  1.  0\n",
      "  libswscale      4.  2.100 /  4.  2.100\n",
      "  libswresample   2.  3.100 /  2.  3.100\n",
      "  libpostproc    54.  1.100 / 54.  1.100\n",
      "Input #0, image2, from '/Users/jacobrosen/Desktop/Edinburgh/Dissertation/project_code/predictions/models/dlc2ult/model_ffn_med2/pred_226_aud/%07d.jpg':\n",
      "  Duration: 00:00:04.08, start: 0.000000, bitrate: N/A\n",
      "    Stream #0:0: Video: mjpeg, yuvj420p(pc, bt470bg/unknown/unknown), 900x600 [SAR 150:150 DAR 3:2], 25 fps, 25 tbr, 25 tbn, 25 tbc\n",
      "Please use -q:a or -q:v, -qscale is ambiguous\n",
      "[swscaler @ 0x7f987edb8000] deprecated pixel format used, make sure you did set range correctly\n",
      "Output #0, avi, to '/Users/jacobrosen/Desktop/Edinburgh/Dissertation/project_code/predictions/models/dlc2ult/model_ffn_med2/pred_226_aud/pred_model_ffn_med2.avi':\n",
      "  Metadata:\n",
      "    ISFT            : Lavf57.56.101\n",
      "    Stream #0:0: Video: mpeg4 (FMP4 / 0x34504D46), yuv420p, 900x600 [SAR 1:1 DAR 3:2], q=2-31, 200 kb/s, 60 fps, 60 tbn, 60 tbc\n",
      "    Metadata:\n",
      "      encoder         : Lavc57.64.101 mpeg4\n",
      "    Side data:\n",
      "      cpb: bitrate max/min/avg: 0/0/200000 buffer size: 0 vbv_delay: -1\n",
      "Stream mapping:\n",
      "  Stream #0:0 -> #0:0 (mjpeg (native) -> mpeg4 (native))\n",
      "Press [q] to stop, [?] for help\n",
      "frame=  102 fps=0.0 q=5.0 Lsize=     827kB time=00:00:01.70 bitrate=3985.6kbits/s speed= 4.6x    \n",
      "video:819kB audio:0kB subtitle:0kB other streams:0kB global headers:0kB muxing overhead: 0.985356%\n",
      "ffmpeg version 3.2.4 Copyright (c) 2000-2017 the FFmpeg developers\n",
      "  built with Apple LLVM version 6.1.0 (clang-602.0.53) (based on LLVM 3.6.0svn)\n",
      "  configuration: --prefix=/Users/travis/miniconda3/conda-bld/ffmpeg_1510333912089/_b_env_placehold_placehold_placehold_placehold_placehold_placehold_placehold_placehold_placehold_placehold_placehold_placehold_placehold_placehold_placehold_placehold_placehold_placehold_placehold_pl --disable-doc --enable-shared --enable-static --extra-cflags='-Wall -g -m64 -pipe -O3 -march=x86-64 -fPIC -I/Users/travis/miniconda3/conda-bld/ffmpeg_1510333912089/_b_env_placehold_placehold_placehold_placehold_placehold_placehold_placehold_placehold_placehold_placehold_placehold_placehold_placehold_placehold_placehold_placehold_placehold_placehold_placehold_pl/include' --extra-cxxflags='=-Wall -g -m64 -pipe -O3 -march=x86-64 -fPIC' --extra-libs='-L/Users/travis/miniconda3/conda-bld/ffmpeg_1510333912089/_b_env_placehold_placehold_placehold_placehold_placehold_placehold_placehold_placehold_placehold_placehold_placehold_placehold_placehold_placehold_placehold_placehold_placehold_placehold_placehold_pl/lib -lz' --enable-pic --enable-gpl --enable-version3 --enable-hardcoded-tables --enable-avresample --enable-libx264\n",
      "  libavutil      55. 34.101 / 55. 34.101\n",
      "  libavcodec     57. 64.101 / 57. 64.101\n",
      "  libavformat    57. 56.101 / 57. 56.101\n",
      "  libavdevice    57.  1.100 / 57.  1.100\n",
      "  libavfilter     6. 65.100 /  6. 65.100\n",
      "  libavresample   3.  1.  0 /  3.  1.  0\n",
      "  libswscale      4.  2.100 /  4.  2.100\n",
      "  libswresample   2.  3.100 /  2.  3.100\n",
      "  libpostproc    54.  1.100 / 54.  1.100\n",
      "Input #0, image2, from '/Users/jacobrosen/Desktop/Edinburgh/Dissertation/project_code/predictions/models/dlc2ult/model_ffn_med/pred_226_aud/%07d.jpg':\n",
      "  Duration: 00:00:04.08, start: 0.000000, bitrate: N/A\n",
      "    Stream #0:0: Video: mjpeg, yuvj420p(pc, bt470bg/unknown/unknown), 900x600 [SAR 150:150 DAR 3:2], 25 fps, 25 tbr, 25 tbn, 25 tbc\n",
      "Please use -q:a or -q:v, -qscale is ambiguous\n",
      "[swscaler @ 0x7fe0564af000] deprecated pixel format used, make sure you did set range correctly\n",
      "Output #0, avi, to '/Users/jacobrosen/Desktop/Edinburgh/Dissertation/project_code/predictions/models/dlc2ult/model_ffn_med/pred_226_aud/pred_model_ffn_med.avi':\n",
      "  Metadata:\n",
      "    ISFT            : Lavf57.56.101\n",
      "    Stream #0:0: Video: mpeg4 (FMP4 / 0x34504D46), yuv420p, 900x600 [SAR 1:1 DAR 3:2], q=2-31, 200 kb/s, 60 fps, 60 tbn, 60 tbc\n",
      "    Metadata:\n",
      "      encoder         : Lavc57.64.101 mpeg4\n",
      "    Side data:\n",
      "      cpb: bitrate max/min/avg: 0/0/200000 buffer size: 0 vbv_delay: -1\n",
      "Stream mapping:\n",
      "  Stream #0:0 -> #0:0 (mjpeg (native) -> mpeg4 (native))\n",
      "Press [q] to stop, [?] for help\n",
      "frame=  102 fps=0.0 q=5.0 Lsize=     895kB time=00:00:01.70 bitrate=4310.8kbits/s speed=4.55x    \n",
      "video:886kB audio:0kB subtitle:0kB other streams:0kB global headers:0kB muxing overhead: 0.910248%\n",
      "ffmpeg version 3.2.4 Copyright (c) 2000-2017 the FFmpeg developers\n",
      "  built with Apple LLVM version 6.1.0 (clang-602.0.53) (based on LLVM 3.6.0svn)\n",
      "  configuration: --prefix=/Users/travis/miniconda3/conda-bld/ffmpeg_1510333912089/_b_env_placehold_placehold_placehold_placehold_placehold_placehold_placehold_placehold_placehold_placehold_placehold_placehold_placehold_placehold_placehold_placehold_placehold_placehold_placehold_pl --disable-doc --enable-shared --enable-static --extra-cflags='-Wall -g -m64 -pipe -O3 -march=x86-64 -fPIC -I/Users/travis/miniconda3/conda-bld/ffmpeg_1510333912089/_b_env_placehold_placehold_placehold_placehold_placehold_placehold_placehold_placehold_placehold_placehold_placehold_placehold_placehold_placehold_placehold_placehold_placehold_placehold_placehold_pl/include' --extra-cxxflags='=-Wall -g -m64 -pipe -O3 -march=x86-64 -fPIC' --extra-libs='-L/Users/travis/miniconda3/conda-bld/ffmpeg_1510333912089/_b_env_placehold_placehold_placehold_placehold_placehold_placehold_placehold_placehold_placehold_placehold_placehold_placehold_placehold_placehold_placehold_placehold_placehold_placehold_placehold_pl/lib -lz' --enable-pic --enable-gpl --enable-version3 --enable-hardcoded-tables --enable-avresample --enable-libx264\n",
      "  libavutil      55. 34.101 / 55. 34.101\n",
      "  libavcodec     57. 64.101 / 57. 64.101\n",
      "  libavformat    57. 56.101 / 57. 56.101\n",
      "  libavdevice    57.  1.100 / 57.  1.100\n",
      "  libavfilter     6. 65.100 /  6. 65.100\n",
      "  libavresample   3.  1.  0 /  3.  1.  0\n",
      "  libswscale      4.  2.100 /  4.  2.100\n",
      "  libswresample   2.  3.100 /  2.  3.100\n",
      "  libpostproc    54.  1.100 / 54.  1.100\n",
      "Input #0, image2, from '/Users/jacobrosen/Desktop/Edinburgh/Dissertation/project_code/predictions/models/dlc2ult/model_ffn_butter2/pred_226_aud/%07d.jpg':\n",
      "  Duration: 00:00:04.08, start: 0.000000, bitrate: N/A\n",
      "    Stream #0:0: Video: mjpeg, yuvj420p(pc, bt470bg/unknown/unknown), 900x600 [SAR 150:150 DAR 3:2], 25 fps, 25 tbr, 25 tbn, 25 tbc\n",
      "Please use -q:a or -q:v, -qscale is ambiguous\n",
      "[swscaler @ 0x7fa88edca000] deprecated pixel format used, make sure you did set range correctly\n",
      "Output #0, avi, to '/Users/jacobrosen/Desktop/Edinburgh/Dissertation/project_code/predictions/models/dlc2ult/model_ffn_butter2/pred_226_aud/pred_model_ffn_butter2.avi':\n",
      "  Metadata:\n",
      "    ISFT            : Lavf57.56.101\n",
      "    Stream #0:0: Video: mpeg4 (FMP4 / 0x34504D46), yuv420p, 900x600 [SAR 1:1 DAR 3:2], q=2-31, 200 kb/s, 60 fps, 60 tbn, 60 tbc\n",
      "    Metadata:\n",
      "      encoder         : Lavc57.64.101 mpeg4\n",
      "    Side data:\n",
      "      cpb: bitrate max/min/avg: 0/0/200000 buffer size: 0 vbv_delay: -1\n",
      "Stream mapping:\n",
      "  Stream #0:0 -> #0:0 (mjpeg (native) -> mpeg4 (native))\n",
      "Press [q] to stop, [?] for help\n",
      "frame=  102 fps=0.0 q=5.0 Lsize=     851kB time=00:00:01.70 bitrate=4099.0kbits/s speed=4.22x    \n",
      "video:843kB audio:0kB subtitle:0kB other streams:0kB global headers:0kB muxing overhead: 0.958298%\n",
      "ffmpeg version 3.2.4 Copyright (c) 2000-2017 the FFmpeg developers\n",
      "  built with Apple LLVM version 6.1.0 (clang-602.0.53) (based on LLVM 3.6.0svn)\n",
      "  configuration: --prefix=/Users/travis/miniconda3/conda-bld/ffmpeg_1510333912089/_b_env_placehold_placehold_placehold_placehold_placehold_placehold_placehold_placehold_placehold_placehold_placehold_placehold_placehold_placehold_placehold_placehold_placehold_placehold_placehold_pl --disable-doc --enable-shared --enable-static --extra-cflags='-Wall -g -m64 -pipe -O3 -march=x86-64 -fPIC -I/Users/travis/miniconda3/conda-bld/ffmpeg_1510333912089/_b_env_placehold_placehold_placehold_placehold_placehold_placehold_placehold_placehold_placehold_placehold_placehold_placehold_placehold_placehold_placehold_placehold_placehold_placehold_placehold_pl/include' --extra-cxxflags='=-Wall -g -m64 -pipe -O3 -march=x86-64 -fPIC' --extra-libs='-L/Users/travis/miniconda3/conda-bld/ffmpeg_1510333912089/_b_env_placehold_placehold_placehold_placehold_placehold_placehold_placehold_placehold_placehold_placehold_placehold_placehold_placehold_placehold_placehold_placehold_placehold_placehold_placehold_pl/lib -lz' --enable-pic --enable-gpl --enable-version3 --enable-hardcoded-tables --enable-avresample --enable-libx264\n",
      "  libavutil      55. 34.101 / 55. 34.101\n",
      "  libavcodec     57. 64.101 / 57. 64.101\n",
      "  libavformat    57. 56.101 / 57. 56.101\n",
      "  libavdevice    57.  1.100 / 57.  1.100\n",
      "  libavfilter     6. 65.100 /  6. 65.100\n",
      "  libavresample   3.  1.  0 /  3.  1.  0\n",
      "  libswscale      4.  2.100 /  4.  2.100\n",
      "  libswresample   2.  3.100 /  2.  3.100\n",
      "  libpostproc    54.  1.100 / 54.  1.100\n",
      "Input #0, image2, from '/Users/jacobrosen/Desktop/Edinburgh/Dissertation/project_code/predictions/models/dlc2ult/model_ffn_both2/pred_226_aud/%07d.jpg':\n",
      "  Duration: 00:00:04.08, start: 0.000000, bitrate: N/A\n",
      "    Stream #0:0: Video: mjpeg, yuvj420p(pc, bt470bg/unknown/unknown), 900x600 [SAR 150:150 DAR 3:2], 25 fps, 25 tbr, 25 tbn, 25 tbc\n",
      "Please use -q:a or -q:v, -qscale is ambiguous\n",
      "[swscaler @ 0x7f77bee0d000] deprecated pixel format used, make sure you did set range correctly\n",
      "Output #0, avi, to '/Users/jacobrosen/Desktop/Edinburgh/Dissertation/project_code/predictions/models/dlc2ult/model_ffn_both2/pred_226_aud/pred_model_ffn_both2.avi':\n",
      "  Metadata:\n",
      "    ISFT            : Lavf57.56.101\n",
      "    Stream #0:0: Video: mpeg4 (FMP4 / 0x34504D46), yuv420p, 900x600 [SAR 1:1 DAR 3:2], q=2-31, 200 kb/s, 60 fps, 60 tbn, 60 tbc\n",
      "    Metadata:\n",
      "      encoder         : Lavc57.64.101 mpeg4\n",
      "    Side data:\n",
      "      cpb: bitrate max/min/avg: 0/0/200000 buffer size: 0 vbv_delay: -1\n",
      "Stream mapping:\n",
      "  Stream #0:0 -> #0:0 (mjpeg (native) -> mpeg4 (native))\n",
      "Press [q] to stop, [?] for help\n",
      "frame=  102 fps=0.0 q=5.0 Lsize=     828kB time=00:00:01.70 bitrate=3992.0kbits/s speed= 4.2x    \n",
      "video:820kB audio:0kB subtitle:0kB other streams:0kB global headers:0kB muxing overhead: 0.982801%\n",
      "ffmpeg version 3.2.4 Copyright (c) 2000-2017 the FFmpeg developers\n",
      "  built with Apple LLVM version 6.1.0 (clang-602.0.53) (based on LLVM 3.6.0svn)\n",
      "  configuration: --prefix=/Users/travis/miniconda3/conda-bld/ffmpeg_1510333912089/_b_env_placehold_placehold_placehold_placehold_placehold_placehold_placehold_placehold_placehold_placehold_placehold_placehold_placehold_placehold_placehold_placehold_placehold_placehold_placehold_pl --disable-doc --enable-shared --enable-static --extra-cflags='-Wall -g -m64 -pipe -O3 -march=x86-64 -fPIC -I/Users/travis/miniconda3/conda-bld/ffmpeg_1510333912089/_b_env_placehold_placehold_placehold_placehold_placehold_placehold_placehold_placehold_placehold_placehold_placehold_placehold_placehold_placehold_placehold_placehold_placehold_placehold_placehold_pl/include' --extra-cxxflags='=-Wall -g -m64 -pipe -O3 -march=x86-64 -fPIC' --extra-libs='-L/Users/travis/miniconda3/conda-bld/ffmpeg_1510333912089/_b_env_placehold_placehold_placehold_placehold_placehold_placehold_placehold_placehold_placehold_placehold_placehold_placehold_placehold_placehold_placehold_placehold_placehold_placehold_placehold_pl/lib -lz' --enable-pic --enable-gpl --enable-version3 --enable-hardcoded-tables --enable-avresample --enable-libx264\n",
      "  libavutil      55. 34.101 / 55. 34.101\n",
      "  libavcodec     57. 64.101 / 57. 64.101\n",
      "  libavformat    57. 56.101 / 57. 56.101\n",
      "  libavdevice    57.  1.100 / 57.  1.100\n",
      "  libavfilter     6. 65.100 /  6. 65.100\n",
      "  libavresample   3.  1.  0 /  3.  1.  0\n",
      "  libswscale      4.  2.100 /  4.  2.100\n",
      "  libswresample   2.  3.100 /  2.  3.100\n",
      "  libpostproc    54.  1.100 / 54.  1.100\n",
      "Input #0, image2, from '/Users/jacobrosen/Desktop/Edinburgh/Dissertation/project_code/predictions/models/dlc2ult/model_ffn_dlc2/pred_226_aud/%07d.jpg':\n",
      "  Duration: 00:00:04.08, start: 0.000000, bitrate: N/A\n",
      "    Stream #0:0: Video: mjpeg, yuvj420p(pc, bt470bg/unknown/unknown), 900x600 [SAR 150:150 DAR 3:2], 25 fps, 25 tbr, 25 tbn, 25 tbc\n",
      "Please use -q:a or -q:v, -qscale is ambiguous\n",
      "[swscaler @ 0x7f9a45e70000] deprecated pixel format used, make sure you did set range correctly\n",
      "Output #0, avi, to '/Users/jacobrosen/Desktop/Edinburgh/Dissertation/project_code/predictions/models/dlc2ult/model_ffn_dlc2/pred_226_aud/pred_model_ffn_dlc2.avi':\n",
      "  Metadata:\n",
      "    ISFT            : Lavf57.56.101\n",
      "    Stream #0:0: Video: mpeg4 (FMP4 / 0x34504D46), yuv420p, 900x600 [SAR 1:1 DAR 3:2], q=2-31, 200 kb/s, 60 fps, 60 tbn, 60 tbc\n",
      "    Metadata:\n",
      "      encoder         : Lavc57.64.101 mpeg4\n",
      "    Side data:\n",
      "      cpb: bitrate max/min/avg: 0/0/200000 buffer size: 0 vbv_delay: -1\n",
      "Stream mapping:\n",
      "  Stream #0:0 -> #0:0 (mjpeg (native) -> mpeg4 (native))\n",
      "Press [q] to stop, [?] for help\n",
      "frame=  102 fps=0.0 q=5.0 Lsize=     910kB time=00:00:01.70 bitrate=4385.1kbits/s speed=3.86x    \n",
      "video:902kB audio:0kB subtitle:0kB other streams:0kB global headers:0kB muxing overhead: 0.894469%\n"
     ]
    },
    {
     "data": {
      "image/png": "[encoded data removed]",
      "text/plain": [
       "<Figure size 432x288 with 5 Axes>"
      ]
     },
     "metadata": {
      "needs_background": "light"
     },
     "output_type": "display_data"
    },
    {
     "data": {
      "image/png": "[encoded data removed]",
      "text/plain": [
       "<Figure size 432x288 with 5 Axes>"
      ]
     },
     "metadata": {
      "needs_background": "light"
     },
     "output_type": "display_data"
    },
    {
     "data": {
      "image/png": "[encoded data removed]",
      "text/plain": [
       "<Figure size 432x288 with 5 Axes>"
      ]
     },
     "metadata": {
      "needs_background": "light"
     },
     "output_type": "display_data"
    },
    {
     "data": {
      "image/png": "[encoded data removed]",
      "text/plain": [
       "<Figure size 432x288 with 5 Axes>"
      ]
     },
     "metadata": {
      "needs_background": "light"
     },
     "output_type": "display_data"
    },
    {
     "data": {
      "image/png": "[encoded data removed]",
      "text/plain": [
       "<Figure size 432x288 with 5 Axes>"
      ]
     },
     "metadata": {
      "needs_background": "light"
     },
     "output_type": "display_data"
    },
    {
     "data": {
      "image/png": "[encoded data removed]",
      "text/plain": [
       "<Figure size 432x288 with 5 Axes>"
      ]
     },
     "metadata": {
      "needs_background": "light"
     },
     "output_type": "display_data"
    },
    {
     "data": {
      "image/png": "[encoded data removed]",
      "text/plain": [
       "<Figure size 432x288 with 5 Axes>"
      ]
     },
     "metadata": {
      "needs_background": "light"
     },
     "output_type": "display_data"
    },
    {
     "data": {
      "image/png": "[encoded data removed]",
      "text/plain": [
       "<Figure size 432x288 with 5 Axes>"
      ]
     },
     "metadata": {
      "needs_background": "light"
     },
     "output_type": "display_data"
    }
   ],
   "source": [
    "for mod in range(len(model_names)):\n",
    "    max_true = np.max(testfile.transform)\n",
    "    # max_pred = np.max(list(pred_list[mod].values()))\n",
    "\n",
    "    grid = [[keys[0], keys[1]],\n",
    "            ['True Ult', keys[2]],\n",
    "            ['True Ult', keys[3]]]\n",
    "    fig, ax = plt.subplot_mosaic(grid, layout = 'constrained')\n",
    "\n",
    "    for frame in range(testfile.ult.shape[0]):\n",
    "    # for frame in range(5):\n",
    "        for key in keys:\n",
    "            ax[key].set_title(key)\n",
    "            ax[key].axis('off')\n",
    "            ax[key].imshow(pred_list[mod][key][frame].T, aspect='equal', origin='lower', cmap='gray')\n",
    "\n",
    "        ax['True Ult'].set_title('True Ult')\n",
    "        ax['True Ult'].axis('off')\n",
    "        ax['True Ult'].imshow(testfile.transform[frame].T, aspect='equal', origin='lower', cmap='gray')\n",
    "\n",
    "        plt.savefig(save_dir_list[mod] + \"/%07d.jpg\" % frame, dpi=150)\n",
    "        for i in ax:\n",
    "            ax[i].clear()\n",
    "    # plt.show()\n",
    "    make_vid(save_dir_list[mod], f'pred_{model_names[mod]}')\n"
   ]
  },
  {
   "cell_type": "code",
   "execution_count": 13,
   "metadata": {
    "pycharm": {
     "name": "#%%\n"
    }
   },
   "outputs": [],
   "source": [
    "#### for predicted dlc\n",
    "# load in pickle predictions\n",
    "dlc2ult_pred_path = 'speech2ult/predictions/dlc2ult_preds.pickle'\n",
    "with open(dlc2ult_pred_path, 'rb') as file:\n",
    "    ult_pred_list, scal_pred_list, pred_list_names = pickle.load(file)\n",
    "# transform each one\n",
    "pred_test = [transfrom(ult.reshape((-1, 64, 128)) - ult.min()) for ult in scal_pred_list]\n",
    "pred_list = [transfrom(ult.reshape((-1, 64, 128))) for ult in scal_pred_list]\n"
   ]
  },
  {
   "cell_type": "code",
   "execution_count": 14,
   "metadata": {
    "pycharm": {
     "name": "#%%\n"
    }
   },
   "outputs": [],
   "source": [
    "grid = [['true_ultrasaound', pred_list_names[0], pred_list_names[1]],\n",
    "        pred_list_names[2:5],\n",
    "        pred_list_names[5:]]\n",
    "save_dir = 'speech2ult/predictions/models/dlc2ult/preds'\n",
    "\n",
    "names = {'true_ultrasaound': 'True Ultrasound',\n",
    "         pred_list_names[0]: 'Original Model1',\n",
    "         pred_list_names[1]: 'Original Model2',\n",
    "         pred_list_names[2]: 'Both Model1',\n",
    "         pred_list_names[3]: 'Both Model2',\n",
    "         pred_list_names[4]: 'Butter Model1',\n",
    "         pred_list_names[5]: 'Butter Model2',\n",
    "         pred_list_names[6]: 'Median Model1',\n",
    "         pred_list_names[7]: 'Median Model2',\n",
    "\n",
    "}"
   ]
  },
  {
   "cell_type": "code",
   "execution_count": 15,
   "metadata": {
    "pycharm": {
     "name": "#%%\n"
    }
   },
   "outputs": [
    {
     "data": {
      "image/png": "[encoded data removed]",
      "text/plain": [
       "<Figure size 432x288 with 9 Axes>"
      ]
     },
     "metadata": {
      "needs_background": "light"
     },
     "output_type": "display_data"
    }
   ],
   "source": [
    "max_true = np.max(testfile.transform)\n",
    "fig, ax = plt.subplot_mosaic(grid, layout = 'constrained')\n",
    "\n",
    "for frame in range(testfile.transform.shape[0]):\n",
    "# for frame in range(1,2):\n",
    "    for name, ult in zip(pred_list_names, pred_test):\n",
    "        ax[name].set_title(names[name])\n",
    "        ax[name].axis('off')\n",
    "        ax[name].imshow(ult[frame].T, aspect='equal', origin='lower', cmap='gray')\n",
    "\n",
    "    ax['true_ultrasaound'].set_title('True Ultrasound')\n",
    "    ax['true_ultrasaound'].axis('off')\n",
    "    ax['true_ultrasaound'].imshow(testfile.transform[frame].T, aspect='equal', origin='lower', cmap='gray')\n",
    "\n",
    "    plt.savefig(save_dir + \"/%07d.jpg\" % frame, dpi=200)\n",
    "    for i in ax:\n",
    "        ax[i].clear()\n",
    "# plt.show()\n"
   ]
  },
  {
   "cell_type": "code",
   "execution_count": 16,
   "metadata": {
    "pycharm": {
     "name": "#%%\n"
    }
   },
   "outputs": [
    {
     "name": "stderr",
     "output_type": "stream",
     "text": [
      "ffmpeg version 3.2.4 Copyright (c) 2000-2017 the FFmpeg developers\n",
      "  built with Apple LLVM version 6.1.0 (clang-602.0.53) (based on LLVM 3.6.0svn)\n",
      "  configuration: --prefix=/Users/travis/miniconda3/conda-bld/ffmpeg_1510333912089/_b_env_placehold_placehold_placehold_placehold_placehold_placehold_placehold_placehold_placehold_placehold_placehold_placehold_placehold_placehold_placehold_placehold_placehold_placehold_placehold_pl --disable-doc --enable-shared --enable-static --extra-cflags='-Wall -g -m64 -pipe -O3 -march=x86-64 -fPIC -I/Users/travis/miniconda3/conda-bld/ffmpeg_1510333912089/_b_env_placehold_placehold_placehold_placehold_placehold_placehold_placehold_placehold_placehold_placehold_placehold_placehold_placehold_placehold_placehold_placehold_placehold_placehold_placehold_pl/include' --extra-cxxflags='=-Wall -g -m64 -pipe -O3 -march=x86-64 -fPIC' --extra-libs='-L/Users/travis/miniconda3/conda-bld/ffmpeg_1510333912089/_b_env_placehold_placehold_placehold_placehold_placehold_placehold_placehold_placehold_placehold_placehold_placehold_placehold_placehold_placehold_placehold_placehold_placehold_placehold_placehold_pl/lib -lz' --enable-pic --enable-gpl --enable-version3 --enable-hardcoded-tables --enable-avresample --enable-libx264\n",
      "  libavutil      55. 34.101 / 55. 34.101\n",
      "  libavcodec     57. 64.101 / 57. 64.101\n",
      "  libavformat    57. 56.101 / 57. 56.101\n",
      "  libavdevice    57.  1.100 / 57.  1.100\n",
      "  libavfilter     6. 65.100 /  6. 65.100\n",
      "  libavresample   3.  1.  0 /  3.  1.  0\n",
      "  libswscale      4.  2.100 /  4.  2.100\n",
      "  libswresample   2.  3.100 /  2.  3.100\n",
      "  libpostproc    54.  1.100 / 54.  1.100\n",
      "Input #0, image2, from '/Users/jacobrosen/Desktop/Edinburgh/Dissertation/project_code/predictions/models/dlc2ult/preds/%07d.jpg':\n",
      "  Duration: 00:00:04.08, start: 0.000000, bitrate: N/A\n",
      "    Stream #0:0: Video: mjpeg, yuvj420p(pc, bt470bg/unknown/unknown), 1200x800 [SAR 200:200 DAR 3:2], 25 fps, 25 tbr, 25 tbn, 25 tbc\n",
      "Please use -q:a or -q:v, -qscale is ambiguous\n",
      "[swscaler @ 0x7fce1eb15000] deprecated pixel format used, make sure you did set range correctly\n",
      "Output #0, mp4, to '/Users/jacobrosen/Desktop/Edinburgh/Dissertation/project_code/predictions/models/dlc2ult/preds/pred_226_aud.mp4':\n",
      "  Metadata:\n",
      "    encoder         : Lavf57.56.101\n",
      "    Stream #0:0: Video: mpeg4 ( [0][0][0] / 0x0020), yuv420p, 1200x800 [SAR 1:1 DAR 3:2], q=2-31, 200 kb/s, 60 fps, 15360 tbn, 60 tbc\n",
      "    Metadata:\n",
      "      encoder         : Lavc57.64.101 mpeg4\n",
      "    Side data:\n",
      "      cpb: bitrate max/min/avg: 0/0/200000 buffer size: 0 vbv_delay: -1\n",
      "Stream mapping:\n",
      "  Stream #0:0 -> #0:0 (mjpeg (native) -> mpeg4 (native))\n",
      "Press [q] to stop, [?] for help\n",
      "Past duration 0.999992 too large\n",
      "    Last message repeated 68 times\n",
      "Past duration 0.999992 too large   1081kB time=00:00:01.16 bitrate=7587.9kbits/s dup=1 drop=0 speed=2.32x    \n",
      "    Last message repeated 31 times\n",
      "frame=  103 fps=0.0 q=5.0 Lsize=    1571kB time=00:00:01.70 bitrate=7570.8kbits/s dup=1 drop=0 speed=2.24x    \n",
      "video:1570kB audio:0kB subtitle:0kB other streams:0kB global headers:0kB muxing overhead: 0.083171%\n"
     ]
    }
   ],
   "source": [
    "make_vid(save_dir, f'pred_{testfile.basename}', type='mp4')"
   ]
  },
  {
   "cell_type": "code",
   "execution_count": 25,
   "metadata": {
    "pycharm": {
     "name": "#%%\n"
    }
   },
   "outputs": [
    {
     "data": {
      "text/plain": [
       "0"
      ]
     },
     "execution_count": 25,
     "metadata": {},
     "output_type": "execute_result"
    }
   ],
   "source": []
  },
  {
   "cell_type": "code",
   "execution_count": 12,
   "metadata": {
    "pycharm": {
     "name": "#%%\n"
    }
   },
   "outputs": [],
   "source": [
    "testfile.transform = transfrom(testfile.ult + 17)"
   ]
  },
  {
   "cell_type": "code",
   "execution_count": 39,
   "metadata": {
    "pycharm": {
     "name": "#%%\n"
    }
   },
   "outputs": [
    {
     "data": {
      "text/plain": [
       "0.0"
      ]
     },
     "execution_count": 39,
     "metadata": {},
     "output_type": "execute_result"
    }
   ],
   "source": [
    "testfile.transform.min()"
   ]
  },
  {
   "cell_type": "code",
   "execution_count": null,
   "metadata": {
    "pycharm": {
     "name": "#%%\n"
    }
   },
   "outputs": [],
   "source": []
  }
 ],
 "metadata": {
  "kernelspec": {
   "display_name": "Python 3",
   "language": "python",
   "name": "python3"
  },
  "language_info": {
   "codemirror_mode": {
    "name": "ipython",
    "version": 3
   },
   "file_extension": ".py",
   "mimetype": "text/x-python",
   "name": "python",
   "nbconvert_exporter": "python",
   "pygments_lexer": "ipython3",
   "version": "3.9.5"
  }
 },
 "nbformat": 4,
 "nbformat_minor": 1
}
